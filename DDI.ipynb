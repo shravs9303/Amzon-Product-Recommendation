{
  "nbformat": 4,
  "nbformat_minor": 0,
  "metadata": {
    "colab": {
      "provenance": [],
      "authorship_tag": "ABX9TyN8g2i7szsSomFmtBjoLmBy",
      "include_colab_link": true
    },
    "kernelspec": {
      "name": "python3",
      "display_name": "Python 3"
    },
    "language_info": {
      "name": "python"
    }
  },
  "cells": [
    {
      "cell_type": "markdown",
      "metadata": {
        "id": "view-in-github",
        "colab_type": "text"
      },
      "source": [
        "<a href=\"https://colab.research.google.com/github/shravs9303/Amzon-Product-Recommendation/blob/main/DDI.ipynb\" target=\"_parent\"><img src=\"https://colab.research.google.com/assets/colab-badge.svg\" alt=\"Open In Colab\"/></a>"
      ]
    },
    {
      "cell_type": "code",
      "source": [
        "import requests\n",
        "\n",
        "def get_drug_data(drug_name):\n",
        "    \"\"\"Retrieves drug data from RxNorm API.\"\"\"\n",
        "    url = f\"https://rxnav.nlm.nih.gov/REST/drugs.json?name={drug_name}\"\n",
        "    response = requests.get(url)\n",
        "\n",
        "    if response.status_code == 200:\n",
        "        data = response.json()\n",
        "        drug_info = []\n",
        "\n",
        "        if 'drugGroup' in data:\n",
        "            for concept_group in data['drugGroup'].get('conceptGroup', []):\n",
        "                for concept in concept_group.get('conceptProperties', []):\n",
        "                    rxcui = concept.get('rxcui', 'N/A')\n",
        "                    name = concept.get('name', 'N/A')\n",
        "                    tty = concept_group.get('tty', 'N/A')\n",
        "                    synonym = concept.get('synonym', 'N/A')\n",
        "\n",
        "                    # Filter to only include entries for \"aspirin\"\n",
        "                    if \"aspirin\" in name.lower():  # Use lower() for case-insensitive matching\n",
        "                        drug_info.append({\n",
        "                            'RxCUI': rxcui,\n",
        "                            'Name': name,\n",
        "                            'TTY': tty,\n",
        "                            'Synonym': synonym\n",
        "                        })\n",
        "\n",
        "        return drug_info\n",
        "    else:\n",
        "        print(\"Failed to retrieve data:\", response.status_code)\n",
        "        return None\n",
        "\n",
        "# Example usage\n",
        "drug_name = \"aspirin\"\n",
        "drug_data = get_drug_data(drug_name)\n",
        "\n",
        "# Print the filtered output\n",
        "if drug_data:\n",
        "    for drug in drug_data:\n",
        "        print(f\"RxCUI: {drug['RxCUI']}, Name: {drug['Name']}, TTY: {drug['TTY']}, Synonym: {drug['Synonym']}\")\n",
        "else:\n",
        "    print(\"No relevant drug data found.\")\n"
      ],
      "metadata": {
        "colab": {
          "base_uri": "https://localhost:8080/"
        },
        "id": "7jwWjF0Ol8G3",
        "outputId": "09cf7d05-d19d-423f-86d7-5db72c31b608"
      },
      "execution_count": 16,
      "outputs": [
        {
          "output_type": "stream",
          "name": "stdout",
          "text": [
            "RxCUI: 2047428, Name: {100 (acetaminophen 250 MG / aspirin 250 MG / caffeine 65 MG Oral Tablet [Excedrin]) / 24 (acetaminophen 250 MG / aspirin 250 MG / diphenhydramine citrate 38 MG Oral Tablet [Excedrin PM Triple Action]) } Pack [Excedrin PM Triple Action Caplets and Excedrin Extra Strength Pain Reliever], TTY: BPCK, Synonym: Excedrin PM Triple Action Caplets and Excedrin Extra Strength Pain Reliever Kit\n",
            "RxCUI: 1730187, Name: {1 (aspirin 325 MG / dextromethorphan hydrobromide 10 MG / phenylephrine bitartrate 7.8 MG Effervescent Oral Tablet) / 1 (aspirin 500 MG / dextromethorphan hydrobromide 10 MG / doxylamine succinate 6.25 MG / phenylephrine bitartrate 7.8 MG Effervescent Oral Tablet) } Pack, TTY: GPCK, Synonym: 1 daytime (aspirin 325 MG / dextromethorphan HBr 10 MG / phenylephrine bitartrate 7.8 MG Effervescent Oral Tablet) / 1 nighttime (aspirin 500 MG / dextromethorphan HBr 10 MG / doxylamine succinate 6.25 MG / phenylephrine bitartrate 7.8 MG Effervescent Oral Tablet) Pack\n",
            "RxCUI: 2047427, Name: {100 (acetaminophen 250 MG / aspirin 250 MG / caffeine 65 MG Oral Tablet) / 24 (acetaminophen 250 MG / aspirin 250 MG / diphenhydramine citrate 38 MG Oral Tablet) } Pack, TTY: GPCK, Synonym: 100 daytime (acetaminophen 250 MG / aspirin 250 MG / caffeine 65 MG Oral Tablet) / 24 nighttime (acetaminophen 250 MG / aspirin 250 MG / diphenhydramine citrate 38 MG Oral Tablet) Kit\n",
            "RxCUI: 2565492, Name: {1 (aspirin 325 MG / dextromethorphan hydrobromide 10 MG / doxylamine succinate 6.25 MG / phenylephrine bitartrate 7.8 MG Effervescent Oral Tablet) / 1 (aspirin 325 MG / dextromethorphan hydrobromide 10 MG / phenylephrine bitartrate 7.8 MG Effervescent Oral Tablet) } Pack, TTY: GPCK, Synonym: 1 daytime (aspirin 325 MG / dextromethorphan HBr 10 MG / phenylephrine bitartrate 7.8 MG Effervescent Oral Tablet) / 1 nighttime (aspirin 325 MG / dextromethorphan HBr 10 MG / doxylamine succinate 6.25 MG / phenylephrine bitartrate 7.8 MG Effervescent Oral Tablet) Pack\n",
            "RxCUI: 2664074, Name: {1 (aspirin 325 MG / chlorpheniramine maleate 2 MG / dextromethorphan hydrobromide 10 MG / phenylephrine bitartrate 7.8 MG Effervescent Oral Tablet) / 1 (aspirin 325 MG / dextromethorphan hydrobromide 10 MG / phenylephrine bitartrate 7.8 MG Effervescent Oral Tablet) } Pack, TTY: GPCK, Synonym: 1 daytime (aspirin 325 MG / dextromethorphan HBr 10 MG / phenylephrine bitartrate 7.8 MG Effervescent Oral Tablet) / 1 nighttime (aspirin 325 MG / chlorpheniramine maleate 2 MG / dextromethorphan HBr 10 MG / phenylephrine bitartrate 7.8 MG Effervescent Oral Tablet) Pack\n",
            "RxCUI: 904664, Name: {30 (aspirin 325 MG Oral Tablet) / 30 (pravastatin sodium 80 MG Oral Tablet) } Pack, TTY: GPCK, Synonym: \n",
            "RxCUI: 904668, Name: {30 (aspirin 81 MG Oral Tablet) / 30 (pravastatin sodium 40 MG Oral Tablet) } Pack, TTY: GPCK, Synonym: \n",
            "RxCUI: 1001476, Name: aspirin 325 MG Delayed Release Oral Tablet [Ecpirin], TTY: SBD, Synonym: Ecpirin 325 MG Delayed Release Oral Tablet\n",
            "RxCUI: 1052416, Name: acetaminophen 250 MG / aspirin 250 MG / caffeine 65 MG Oral Tablet [Pamprin Max Formula], TTY: SBD, Synonym: APAP 250 MG / ASA 250 MG / Caffeine 65 MG Oral Tablet [Pamprin Max Formula]\n",
            "RxCUI: 1052678, Name: aspirin 81 MG Delayed Release Oral Tablet [Miniprin], TTY: SBD, Synonym: Miniprin 81 MG Delayed Release Oral Tablet\n",
            "RxCUI: 1053327, Name: aspirin 845 MG / caffeine 65 MG Oral Powder [Stanback Headache Powder Reformulated Jan 2011], TTY: SBD, Synonym: ASA 845 MG / Caffeine 65 MG Oral Powder [Stanback Headache Powder Reformulated Jan 2011]\n",
            "RxCUI: 1101754, Name: acetaminophen 194 MG / aspirin 227 MG / caffeine 33 MG Oral Tablet [Vanquish], TTY: SBD, Synonym: APAP 194 MG / ASA 227 MG / Caffeine 33 MG Oral Tablet [Vanquish]\n",
            "RxCUI: 1189781, Name: aspirin 81 MG Delayed Release Oral Tablet [Ecotrin], TTY: SBD, Synonym: Ecotrin 81 MG Delayed Release Oral Tablet\n",
            "RxCUI: 1247397, Name: aspirin 1000 MG / caffeine 65 MG Oral Powder [BC Arthritis], TTY: SBD, Synonym: ASA 1000 MG / Caffeine 65 MG Oral Powder [BC Arthritis]\n",
            "RxCUI: 1247402, Name: aspirin 845 MG / caffeine 65 MG Oral Powder [BC Original Formula], TTY: SBD, Synonym: BC Pain Relief (ASA 845 MG / caffeine 65 MG) Oral Powder\n",
            "RxCUI: 1250909, Name: aspirin 500 MG / diphenhydramine citrate 38.3 MG Oral Tablet [Bayer Aspirin PM Reformulated Nov 2011], TTY: SBD, Synonym: ASA 500 MG / diphenhydramine citrate 38.3 MG Oral Tablet [Bayer Aspirin PM Reformulated Nov 2011]\n",
            "RxCUI: 1293665, Name: aspirin 81 MG Delayed Release Oral Tablet [Aspir-Low], TTY: SBD, Synonym: Aspir-Low 81 MG Delayed Release Oral Tablet\n",
            "RxCUI: 1303159, Name: acetaminophen 250 MG / aspirin 250 MG / caffeine 65 MG Oral Tablet [Arthriten Inflammatory Pain], TTY: SBD, Synonym: APAP 250 MG / ASA 250 MG / Caffeine 65 MG Oral Tablet [Arthriten Inflammatory Pain]\n",
            "RxCUI: 1304215, Name: aspirin 500 MG / caffeine 32.5 MG Oral Tablet [Bayer Headache Relief], TTY: SBD, Synonym: ASA 500 MG / Caffeine 32.5 MG Oral Tablet [Bayer Headache Relief]\n",
            "RxCUI: 1358853, Name: acetaminophen 110 MG / aspirin 162 MG / caffeine 32.4 MG / salicylamide 152 MG Oral Tablet [Exaprin], TTY: SBD, Synonym: APAP 110 MG / ASA 162 MG / Caffeine 32.4 MG / salicylamide 152 MG Oral Tablet [Exaprin]\n",
            "RxCUI: 1361402, Name: acetaminophen 250 MG / aspirin 250 MG / caffeine 65 MG Oral Tablet [Backaid IPF], TTY: SBD, Synonym: APAP 250 MG / ASA 250 MG / Caffeine 65 MG Oral Tablet [Backaid IPF]\n",
            "RxCUI: 1536680, Name: aspirin 325 MG / citric acid 1000 MG / sodium bicarbonate 1916 MG Effervescent Oral Tablet [Alka-Seltzer], TTY: SBD, Synonym: ASA 325 MG / Citric Acid 1000 MG / NaHCO3 1916 MG Effervescent Oral Tablet [Alka-Seltzer]\n",
            "RxCUI: 1536835, Name: aspirin 500 MG / citric acid 1000 MG / sodium bicarbonate 1985 MG Effervescent Oral Tablet [Alka-Seltzer], TTY: SBD, Synonym: ASA 500 MG / Citric Acid 1000 MG / NaHCO3 1985 MG Effervescent Oral Tablet [Alka-Seltzer]\n",
            "RxCUI: 1537012, Name: aspirin 325 MG / citric acid 1000 MG / sodium bicarbonate 1916 MG Effervescent Oral Tablet [Bromo Seltzer Antacid Pain Reliever], TTY: SBD, Synonym: ASA 325 MG / Citric Acid 1000 MG / NaHCO3 1916 MG Effervescent Oral Tablet [Bromo Seltzer Antacid Pain Reliever]\n",
            "RxCUI: 1593116, Name: acetaminophen 250 MG / aspirin 250 MG / diphenhydramine citrate 38 MG Oral Tablet [Excedrin PM Triple Action], TTY: SBD, Synonym: APAP 250 MG / ASA 250 MG / Diphenhydramine Citrate 38 MG Oral Tablet [Excedrin PM Triple Action]\n",
            "RxCUI: 1600991, Name: aspirin 81 MG Delayed Release Oral Tablet [Aspi-Cor], TTY: SBD, Synonym: Aspi-Cor 81 MG Delayed Release Oral Tablet\n",
            "RxCUI: 1665362, Name: 24 HR aspirin 162.5 MG Extended Release Oral Capsule [Durlaza], TTY: SBD, Synonym: Durlaza 162.5 MG 24HR Extended Release Oral Capsule\n",
            "RxCUI: 1722695, Name: aspirin 81 MG / calcium carbonate 777 MG Oral Tablet [Bayer Womens], TTY: SBD, Synonym: ASA 81 MG / Calcium Carbonate 777 MG Oral Tablet [Bayer Womens]\n",
            "RxCUI: 1811916, Name: aspirin 325 MG / omeprazole 40 MG Delayed Release Oral Tablet [Yosprala], TTY: SBD, Synonym: ASA 325 MG / Omeprazole 40 MG Delayed Release Oral Tablet [Yosprala]\n",
            "RxCUI: 1811918, Name: aspirin 81 MG / omeprazole 40 MG Delayed Release Oral Tablet [Yosprala], TTY: SBD, Synonym: ASA 81 MG / Omeprazole 40 MG Delayed Release Oral Tablet [Yosprala]\n",
            "RxCUI: 1872088, Name: aspirin 500 MG / citric acid 1000 MG / sodium bicarbonate 1985 MG Granules for Oral Solution [Alka-Seltzer], TTY: SBD, Synonym: ASA 500 MG / Citric Acid 1000 MG / NaHCO3 1985 MG Granules for Oral Solution [Alka-Seltzer]\n",
            "RxCUI: 1925790, Name: aspirin 325 MG / citric acid 1000 MG / sodium bicarbonate 1700 MG Effervescent Oral Tablet [Alka-Seltzer], TTY: SBD, Synonym: ASA 325 MG / Citric Acid 1000 MG / NaHCO3 1700 MG Effervescent Oral Tablet [Alka-Seltzer]\n",
            "RxCUI: 1944113, Name: acetaminophen 250 MG / aspirin 250 MG / caffeine 65 MG Oral Tablet [Arthriten Max], TTY: SBD, Synonym: APAP 250 MG / ASA 250 MG / Caffeine 65 MG Oral Tablet [Arthriten Max]\n",
            "RxCUI: 209468, Name: acetaminophen 250 MG / aspirin 250 MG / caffeine 65 MG Oral Tablet [Excedrin], TTY: SBD, Synonym: APAP 250 MG / ASA 250 MG / Caffeine 65 MG Oral Tablet [Excedrin]\n",
            "RxCUI: 209823, Name: aspirin 325 MG / meprobamate 200 MG Oral Tablet [Equagesic], TTY: SBD, Synonym: ASA 325 MG / Meprobamate 200 MG Oral Tablet [Equagesic]\n",
            "RxCUI: 210864, Name: acetaminophen 115 MG / aspirin 210 MG / caffeine 16 MG / salicylamide 65 MG Oral Tablet [Saleto], TTY: SBD, Synonym: APAP 115 MG / ASA 210 MG / Caffeine 16 MG / salicylamide 65 MG Oral Tablet [Saleto]\n",
            "RxCUI: 211292, Name: aspirin 400 MG / caffeine 32 MG Oral Tablet [Anacin], TTY: SBD, Synonym: ASA 400 MG / Caffeine 32 MG Oral Tablet [Anacin]\n",
            "RxCUI: 211297, Name: aspirin 400 MG / caffeine 32 MG Oral Tablet [P-A-C Analgesic], TTY: SBD, Synonym: ASA 400 MG / Caffeine 32 MG Oral Tablet [P-A-C Analgesic]\n",
            "RxCUI: 211832, Name: aspirin 81 MG Chewable Tablet [St. Joseph Aspirin], TTY: SBD, Synonym: St. Joseph Aspirin 81 MG Chewable Tablet\n",
            "RxCUI: 211874, Name: aspirin 325 MG Oral Tablet [Bayer Aspirin], TTY: SBD, Synonym: Bayer Aspirin 325 MG Oral Tablet\n",
            "RxCUI: 211881, Name: aspirin 325 MG Oral Tablet [Norwich Aspirin], TTY: SBD, Synonym: Norwich Aspirin 325 MG Oral Tablet\n",
            "RxCUI: 211887, Name: aspirin 500 MG Oral Tablet [Bayer Aspirin], TTY: SBD, Synonym: Bayer Aspirin 500 MG Oral Tablet\n",
            "RxCUI: 211891, Name: aspirin 500 MG Oral Tablet [Norwich Aspirin], TTY: SBD, Synonym: Norwich Aspirin 500 MG Oral Tablet\n",
            "RxCUI: 212086, Name: aspirin 325 MG Delayed Release Oral Tablet [Ecotrin], TTY: SBD, Synonym: Ecotrin 325 MG Delayed Release Oral Tablet\n",
            "RxCUI: 2563428, Name: aspirin 325 MG Oral Capsule [Vazalore], TTY: SBD, Synonym: Vazalore 325 MG Oral Capsule\n",
            "RxCUI: 2563431, Name: aspirin 81 MG Oral Capsule [Vazalore], TTY: SBD, Synonym: Vazalore 81 MG Oral Capsule\n",
            "RxCUI: 260847, Name: aspirin 325 MG Oral Tablet [Bufferin], TTY: SBD, Synonym: Bufferin 325 MG Oral Tablet\n",
            "RxCUI: 387090, Name: aspirin 325 MG Delayed Release Oral Tablet [Bayer Aspirin], TTY: SBD, Synonym: Bayer Aspirin 325 MG Delayed Release Oral Tablet\n",
            "RxCUI: 608696, Name: aspirin 500 MG / caffeine 32 MG Oral Tablet [Anacin], TTY: SBD, Synonym: ASA 500 MG / Caffeine 32 MG Oral Tablet [Anacin]\n",
            "RxCUI: 702320, Name: aspirin 500 MG / caffeine 32.5 MG Oral Tablet [Bayer Back and Body Pain], TTY: SBD, Synonym: ASA 500 MG / Caffeine 32.5 MG Oral Tablet [Bayer Back and Body Pain]\n",
            "RxCUI: 723530, Name: acetaminophen 250 MG / aspirin 250 MG Oral Tablet [Excedrin Back & Body], TTY: SBD, Synonym: APAP 250 MG / ASA 250 MG Oral Tablet [Excedrin Back & Body]\n",
            "RxCUI: 723533, Name: acetaminophen 250 MG / aspirin 250 MG / caffeine 65 MG Oral Tablet [Anacin Advanced Headache Formula], TTY: SBD, Synonym: APAP 250 MG / ASA 250 MG / Caffeine 65 MG Oral Tablet [Anacin Advanced Headache Formula]\n",
            "RxCUI: 724444, Name: aspirin 81 MG Oral Tablet [Anacin Aspirin Regimen], TTY: SBD, Synonym: Anacin Aspirin Regimen 81 MG Oral Tablet\n",
            "RxCUI: 749795, Name: aspirin 81 MG Delayed Release Oral Tablet [St. Joseph Aspirin], TTY: SBD, Synonym: St. Joseph Aspirin 81 MG Delayed Release Oral Tablet\n",
            "RxCUI: 794229, Name: aspirin 81 MG Delayed Release Oral Tablet [Bayer Aspirin], TTY: SBD, Synonym: Bayer Aspirin 81 MG Delayed Release Oral Tablet\n",
            "RxCUI: 825180, Name: aspirin 81 MG Chewable Tablet [Bayer Aspirin], TTY: SBD, Synonym: Bayer Aspirin 81 MG Chewable Tablet\n",
            "RxCUI: 848166, Name: aspirin 500 MG Oral Tablet [Bufferin], TTY: SBD, Synonym: Bufferin 500 MG Oral Tablet\n",
            "RxCUI: 848928, Name: aspirin 325 MG / oxycodone hydrochloride 4.84 MG Oral Tablet [Endodan Reformulated May 2009], TTY: SBD, Synonym: ASA 325 MG / Oxycodone Hydrochloride 4.84 MG Oral Tablet [Endodan Reformulated May 2009]\n",
            "RxCUI: 853501, Name: aspirin 228 MG Chewing Gum [Aspergum], TTY: SBD, Synonym: Aspergum 227.5 MG Chewing Gum\n",
            "RxCUI: 994239, Name: aspirin 325 MG / butalbital 50 MG / caffeine 40 MG / codeine phosphate 30 MG Oral Capsule [Ascomp], TTY: SBD, Synonym: ASA 325 MG / butalbital 50 MG / Caffeine 40 MG / Codeine Phosphate 30 MG Oral Capsule [Ascomp]\n",
            "RxCUI: 994530, Name: aspirin 385 MG / caffeine 30 MG / orphenadrine citrate 25 MG Oral Tablet [Norgesic], TTY: SBD, Synonym: Norgesic 25/385/30 (orphenadrine / aspirin / caffeine) Oral Tablet\n",
            "RxCUI: 994537, Name: aspirin 770 MG / caffeine 60 MG / orphenadrine citrate 50 MG Oral Tablet [Norgesic], TTY: SBD, Synonym: Norgesic forte 50/770/60 (orphenadrine / aspirin / caffeine) Oral Tablet\n",
            "RxCUI: 994539, Name: aspirin 770 MG / caffeine 60 MG / orphenadrine citrate 50 MG Oral Tablet [Orphengesic], TTY: SBD, Synonym: ASA 770 MG / Caffeine 60 MG / Orphenadrine Citrate 50 MG Oral Tablet [Orphengesic]\n",
            "RxCUI: 103863, Name: aspirin 150 MG Rectal Suppository, TTY: SCD, Synonym: ASA 150 MG Rectal Suppository\n",
            "RxCUI: 103954, Name: aspirin 75 MG Delayed Release Oral Tablet, TTY: SCD, Synonym: ASA 75 MG Delayed Release Oral Tablet\n",
            "RxCUI: 104474, Name: aspirin 75 MG Oral Tablet, TTY: SCD, Synonym: ASA 75 MG Oral Tablet\n",
            "RxCUI: 104475, Name: aspirin 75 MG Disintegrating Oral Tablet, TTY: SCD, Synonym: ASA 75 MG Disintegrating Oral Tablet\n",
            "RxCUI: 104899, Name: aspirin 300 MG Delayed Release Oral Tablet, TTY: SCD, Synonym: ASA 300 MG Delayed Release Oral Tablet\n",
            "RxCUI: 106809, Name: aspirin 500 MG / glycine 133 MG Disintegrating Oral Tablet, TTY: SCD, Synonym: ASA 500 MG / Glycine 133 MG Disintegrating Oral Tablet\n",
            "RxCUI: 1092398, Name: aspirin 500 MG / diphenhydramine hydrochloride 25 MG Oral Tablet, TTY: SCD, Synonym: ASA 500 MG / Diphenhydramine Hydrochloride 25 MG Oral Tablet\n",
            "RxCUI: 1234872, Name: aspirin 356.4 MG / caffeine 30 MG / dihydrocodeine bitartrate 16 MG Oral Capsule, TTY: SCD, Synonym: ASA 356.4 MG / caffeine 30 MG / dihydrocodeine bitartrate 16 MG Oral Capsule\n",
            "RxCUI: 1250907, Name: aspirin 500 MG / diphenhydramine citrate 38.3 MG Oral Tablet, TTY: SCD, Synonym: ASA 500 MG / Diphenhydramine Citrate 38.3 MG Oral Tablet\n",
            "RxCUI: 1291868, Name: aspirin 325 MG / diphenhydramine citrate 38 MG Oral Tablet, TTY: SCD, Synonym: ASA 325 MG / Diphenhydramine Citrate 38 MG Oral Tablet\n",
            "RxCUI: 1433630, Name: aspirin 120 MG Chewable Tablet, TTY: SCD, Synonym: ASA 120 MG Chewable Tablet\n",
            "RxCUI: 1536467, Name: aspirin 325 MG / citric acid 1000 MG / sodium bicarbonate 1700 MG Effervescent Oral Tablet, TTY: SCD, Synonym: ASA 325 MG / Citric Acid 1000 MG / NaHCO3 1700 MG Effervescent Oral Tablet\n",
            "RxCUI: 1536498, Name: aspirin 325 MG / dextromethorphan hydrobromide 10 MG / phenylephrine bitartrate 7.8 MG Effervescent Oral Tablet, TTY: SCD, Synonym: ASA 325 MG / Dextromethorphan Hydrobromide 10 MG / Phenylephrine bitartrate 7.8 MG Effervescent Oral Tablet\n",
            "RxCUI: 1536503, Name: aspirin 500 MG / dextromethorphan hydrobromide 10 MG / doxylamine succinate 6.25 MG / phenylephrine bitartrate 7.8 MG Effervescent Oral Tablet, TTY: SCD, Synonym: ASA 500 MG / Dextromethorphan Hydrobromide 10 MG / doxylamine succinate 6.25 MG / Phenylephrine bitartrate 7.8 MG Effervescent Oral Tablet\n",
            "RxCUI: 1536675, Name: aspirin 325 MG / citric acid 1000 MG / sodium bicarbonate 1916 MG Effervescent Oral Tablet, TTY: SCD, Synonym: ASA 325 MG / Citric Acid 1000 MG / NaHCO3 1916 MG Effervescent Oral Tablet\n",
            "RxCUI: 1536815, Name: aspirin 500 MG / caffeine 65 MG Effervescent Oral Tablet, TTY: SCD, Synonym: ASA 500 MG / Caffeine 65 MG Effervescent Oral Tablet\n",
            "RxCUI: 1536833, Name: aspirin 500 MG / citric acid 1000 MG / sodium bicarbonate 1985 MG Effervescent Oral Tablet, TTY: SCD, Synonym: ASA 500 MG / Citric Acid 1000 MG / NaHCO3 1985 MG Effervescent Oral Tablet\n",
            "RxCUI: 1536840, Name: aspirin 325 MG / chlorpheniramine maleate 2 MG / phenylephrine bitartrate 7.8 MG Effervescent Oral Tablet, TTY: SCD, Synonym: ASA 325 MG / Chlorpheniramine Maleate 2 MG / Phenylephrine bitartrate 7.8 MG Effervescent Oral Tablet\n",
            "RxCUI: 1536993, Name: aspirin 500 MG / chlorpheniramine maleate 2 MG / phenylephrine bitartrate 8 MG Effervescent Oral Tablet, TTY: SCD, Synonym: ASA 500 MG / Chlorpheniramine Maleate 2 MG / Phenylephrine bitartrate 8 MG Effervescent Oral Tablet\n",
            "RxCUI: 1537019, Name: aspirin 500 MG / caffeine 60 MG Effervescent Oral Tablet, TTY: SCD, Synonym: ASA 500 MG / Caffeine 60 MG Effervescent Oral Tablet\n",
            "RxCUI: 1537029, Name: aspirin 325 MG / chlorpheniramine maleate 2 MG / dextromethorphan hydrobromide 10 MG / phenylephrine bitartrate 7.8 MG Effervescent Oral Tablet, TTY: SCD, Synonym: ASA 325 MG / Chlorpheniramine Maleate 2 MG / Dextromethorphan Hydrobromide 10 MG / Phenylephrine bitartrate 7.8 MG Effervescent Oral Tablet\n",
            "RxCUI: 1593110, Name: acetaminophen 250 MG / aspirin 250 MG / diphenhydramine citrate 38 MG Oral Tablet, TTY: SCD, Synonym: APAP 250 MG / ASA 250 MG / Diphenhydramine Citrate 38 MG Oral Tablet\n",
            "RxCUI: 1665356, Name: 24 HR aspirin 162.5 MG Extended Release Oral Capsule, TTY: SCD, Synonym: 24 HR ASA 162.5 MG Extended Release Oral Capsule\n",
            "RxCUI: 1722689, Name: aspirin 81 MG / calcium carbonate 777 MG Oral Tablet, TTY: SCD, Synonym: ASA 81 MG / Calcium Carbonate 777 MG Oral Tablet\n",
            "RxCUI: 1811631, Name: aspirin 81 MG / omeprazole 40 MG Delayed Release Oral Tablet, TTY: SCD, Synonym: ASA 81 MG / Omeprazole 40 MG Delayed Release Oral Tablet\n",
            "RxCUI: 1811632, Name: aspirin 325 MG / omeprazole 40 MG Delayed Release Oral Tablet, TTY: SCD, Synonym: ASA 325 MG / Omeprazole 40 MG Delayed Release Oral Tablet\n",
            "RxCUI: 1872085, Name: aspirin 500 MG / citric acid 1000 MG / sodium bicarbonate 1985 MG Granules for Oral Solution, TTY: SCD, Synonym: ASA 500 MG / Citric Acid 1000 MG / NaHCO3 1985 MG Granules for Oral Solution\n",
            "RxCUI: 197447, Name: aspirin 325 MG / carisoprodol 200 MG Oral Tablet, TTY: SCD, Synonym: ASA 325 MG / Carisoprodol 200 MG Oral Tablet\n",
            "RxCUI: 197930, Name: aspirin 325 MG / meprobamate 200 MG Oral Tablet, TTY: SCD, Synonym: ASA 325 MG / Meprobamate 200 MG Oral Tablet\n",
            "RxCUI: 197945, Name: aspirin 325 MG / methocarbamol 400 MG Oral Tablet, TTY: SCD, Synonym: ASA 325 MG / Methocarbamol 400 MG Oral Tablet\n",
            "RxCUI: 198461, Name: aspirin 120 MG Rectal Suppository, TTY: SCD, Synonym: ASA 120 MG Rectal Suppository\n",
            "RxCUI: 198463, Name: aspirin 200 MG Rectal Suppository, TTY: SCD, Synonym: ASA 200 MG Rectal Suppository\n",
            "RxCUI: 198464, Name: aspirin 300 MG Rectal Suppository, TTY: SCD, Synonym: ASA 300 MG Rectal Suppository\n",
            "RxCUI: 198466, Name: aspirin 325 MG Oral Capsule, TTY: SCD, Synonym: ASA 325 MG Oral Capsule\n",
            "RxCUI: 198467, Name: aspirin 325 MG Delayed Release Oral Tablet, TTY: SCD, Synonym: ASA 325 MG Delayed Release Oral Tablet\n",
            "RxCUI: 198471, Name: aspirin 500 MG Oral Tablet, TTY: SCD, Synonym: ASA 500 MG Oral Tablet\n",
            "RxCUI: 198473, Name: aspirin 600 MG Rectal Suppository, TTY: SCD, Synonym: ASA 600 MG Rectal Suppository\n",
            "RxCUI: 198475, Name: aspirin 650 MG Oral Tablet, TTY: SCD, Synonym: ASA 650 MG Oral Tablet\n",
            "RxCUI: 198477, Name: aspirin 162 MG Delayed Release Oral Tablet, TTY: SCD, Synonym: ASA 162 MG Delayed Release Oral Tablet\n",
            "RxCUI: 198479, Name: aspirin 400 MG / caffeine 32 MG Oral Tablet, TTY: SCD, Synonym: ASA 400 MG / Caffeine 32 MG Oral Tablet\n",
            "RxCUI: 198480, Name: aspirin 500 MG / caffeine 32 MG Oral Tablet, TTY: SCD, Synonym: ASA 500 MG / Caffeine 32 MG Oral Tablet\n",
            "RxCUI: 199281, Name: aspirin 300 MG Oral Tablet, TTY: SCD, Synonym: ASA 300 MG Oral Tablet\n",
            "RxCUI: 205251, Name: acetaminophen 160 MG / aspirin 230 MG / caffeine 33 MG Oral Tablet, TTY: SCD, Synonym: APAP 160 MG / ASA 230 MG / Caffeine 33 MG Oral Tablet\n",
            "RxCUI: 212033, Name: aspirin 325 MG Oral Tablet, TTY: SCD, Synonym: ASA 325 MG Oral Tablet\n",
            "RxCUI: 2267026, Name: aspirin 1000 MG / caffeine 150 MG Oral Powder, TTY: SCD, Synonym: ASA 1000 MG / Caffeine 150 MG Oral Powder\n",
            "RxCUI: 2360605, Name: acetaminophen 500 MG / aspirin 500 MG / caffeine 65 MG Oral Powder, TTY: SCD, Synonym: APAP 500 MG / ASA 500 MG / caffeine 65 MG Oral Powder\n",
            "RxCUI: 238134, Name: aspirin 325 MG / butalbital 50 MG / caffeine 40 MG Oral Capsule, TTY: SCD, Synonym: ASA 325 MG / butalbital 50 MG / Caffeine 40 MG Oral Capsule\n",
            "RxCUI: 238135, Name: aspirin 325 MG / butalbital 50 MG / caffeine 40 MG Oral Tablet, TTY: SCD, Synonym: ASA 325 MG / butalbital 50 MG / caffeine 40 MG Oral Tablet\n",
            "RxCUI: 2393784, Name: aspirin 6 MG/ML Oral Spray, TTY: SCD, Synonym: ASA 6 MG/ML Oral Spray\n",
            "RxCUI: 2394061, Name: aspirin 6 MG / menthol 5 MG Oral Lozenge, TTY: SCD, Synonym: ASA 6 MG / menthol 5 MG Oral Lozenge\n",
            "RxCUI: 243670, Name: aspirin 81 MG Oral Tablet, TTY: SCD, Synonym: ASA 81 MG Oral Tablet\n",
            "RxCUI: 243685, Name: aspirin 421 MG / caffeine 32 MG Oral Tablet, TTY: SCD, Synonym: ASA 421 MG / Caffeine 32 MG Oral Tablet\n",
            "RxCUI: 243694, Name: acetaminophen 194 MG / aspirin 227 MG / caffeine 33 MG Oral Tablet, TTY: SCD, Synonym: APAP 194 MG / ASA 227 MG / caffeine 33 MG Oral Tablet\n",
            "RxCUI: 246461, Name: aspirin 100 MG Oral Tablet, TTY: SCD, Synonym: ASA 100 MG Oral Tablet\n",
            "RxCUI: 247137, Name: aspirin 650 MG Oral Powder, TTY: SCD, Synonym: ASA 650 MG Oral Powder\n",
            "RxCUI: 247892, Name: aspirin 325 MG / caffeine 15 MG Oral Tablet, TTY: SCD, Synonym: ASA 325 MG / Caffeine 15 MG Oral Tablet\n",
            "RxCUI: 252857, Name: aspirin 81 MG Oral Capsule, TTY: SCD, Synonym: ASA 81 MG Oral Capsule\n",
            "RxCUI: 2565491, Name: aspirin 325 MG / dextromethorphan hydrobromide 10 MG / doxylamine succinate 6.25 MG / phenylephrine bitartrate 7.8 MG Effervescent Oral Tablet, TTY: SCD, Synonym: ASA 325 MG / Dextromethorphan Hydrobromide 10 MG / doxylamine succinate 6.25 MG / Phenylephrine bitartrate 7.8 MG Effervescent Oral Tablet\n",
            "RxCUI: 2583731, Name: aspirin 500 MG / butalbital 50 MG / caffeine 40 MG Oral Capsule, TTY: SCD, Synonym: ASA 500 MG / butalbital 50 MG / caffeine 40 MG Oral Capsule\n",
            "RxCUI: 259081, Name: 12 HR aspirin 25 MG / dipyridamole 200 MG Extended Release Oral Capsule, TTY: SCD, Synonym: 12 HR ASA 25 MG / Dipyridamole 200 MG Extended Release Oral Capsule\n",
            "RxCUI: 2606079, Name: aspirin 325 MG Effervescent Oral Tablet, TTY: SCD, Synonym: ASA 325 MG Effervescent Oral Tablet\n",
            "RxCUI: 2626726, Name: aspirin 650 MG / caffeine 65 MG Oral Powder, TTY: SCD, Synonym: ASA 650 MG / caffeine 65 MG Oral Powder\n",
            "RxCUI: 2668107, Name: aspirin 81 MG Oral Powder, TTY: SCD, Synonym: ASA 81 MG Oral Powder\n",
            "RxCUI: 308278, Name: acetaminophen 115 MG / aspirin 210 MG / caffeine 16 MG / salicylamide 65 MG Oral Tablet, TTY: SCD, Synonym: APAP 115 MG / ASA 210 MG / caffeine 16 MG / salicylamide 65 MG Oral Tablet\n",
            "RxCUI: 308297, Name: acetaminophen 250 MG / aspirin 250 MG / caffeine 65 MG Oral Tablet, TTY: SCD, Synonym: APAP 250 MG / ASA 250 MG / caffeine 65 MG Oral Tablet\n",
            "RxCUI: 308363, Name: aspirin 325 MG / caffeine 16 MG / salicylamide 95 MG Oral Tablet, TTY: SCD, Synonym: ASA 325 MG / Caffeine 16 MG / salicylamide 95 MG Oral Tablet\n",
            "RxCUI: 308403, Name: aspirin 165 MG Delayed Release Oral Tablet, TTY: SCD, Synonym: ASA 165 MG Delayed Release Oral Tablet\n",
            "RxCUI: 308409, Name: aspirin 500 MG Delayed Release Oral Tablet, TTY: SCD, Synonym: ASA 500 MG Delayed Release Oral Tablet\n",
            "RxCUI: 308411, Name: aspirin 650 MG Delayed Release Oral Tablet, TTY: SCD, Synonym: ASA 650 MG Delayed Release Oral Tablet\n",
            "RxCUI: 308416, Name: aspirin 81 MG Delayed Release Oral Tablet, TTY: SCD, Synonym: ASA 81 MG Delayed Release Oral Tablet\n",
            "RxCUI: 308417, Name: aspirin 975 MG Delayed Release Oral Tablet, TTY: SCD, Synonym: ASA 975 MG Delayed Release Oral Tablet\n",
            "RxCUI: 318272, Name: aspirin 81 MG Chewable Tablet, TTY: SCD, Synonym: ASA 81 MG Chewable Tablet\n",
            "RxCUI: 333834, Name: aspirin 60 MG Chewable Tablet, TTY: SCD, Synonym: ASA 60 MG Chewable Tablet\n",
            "RxCUI: 349516, Name: aspirin 800 MG Oral Tablet, TTY: SCD, Synonym: ASA 800 MG Oral Tablet\n",
            "RxCUI: 359221, Name: acetaminophen 110 MG / aspirin 162 MG / caffeine 32.4 MG / salicylamide 152 MG Oral Tablet, TTY: SCD, Synonym: APAP 110 MG / ASA 162 MG / Caffeine 32.4 MG / salicylamide 152 MG Oral Tablet\n",
            "RxCUI: 391930, Name: aspirin 975 MG Oral Tablet, TTY: SCD, Synonym: ASA 975 MG Oral Tablet\n",
            "RxCUI: 432638, Name: acetaminophen 250 MG / aspirin 250 MG Oral Tablet, TTY: SCD, Synonym: APAP 250 MG / ASA 250 MG Oral Tablet\n",
            "RxCUI: 433353, Name: aspirin 300 MG Chewable Tablet, TTY: SCD, Synonym: ASA 300 MG Chewable Tablet\n",
            "RxCUI: 605252, Name: aspirin 650 MG / caffeine 33.3 MG / salicylamide 195 MG Oral Powder, TTY: SCD, Synonym: ASA 650 MG / Caffeine 33.3 MG / salicylamide 195 MG Oral Powder\n",
            "RxCUI: 637540, Name: aspirin 325 MG / oxycodone hydrochloride 4.5 MG / oxycodone terephthalate 0.38 MG Oral Tablet, TTY: SCD, Synonym: ASA 325 MG / Oxycodone Hydrochloride 4.5 MG / oxycodone terephthalate 0.38 MG Oral Tablet\n",
            "RxCUI: 685589, Name: aspirin 1.5 MG/ML Oral Solution, TTY: SCD, Synonym: ASA 1.5 MG/ML Oral Solution\n",
            "RxCUI: 688214, Name: aspirin 2.5 MG/ML Oral Solution, TTY: SCD, Synonym: ASA 2.5 MG/ML Oral Solution\n",
            "RxCUI: 692836, Name: acetaminophen 325 MG / aspirin 500 MG / caffeine 65 MG Oral Powder, TTY: SCD, Synonym: APAP 325 MG / ASA 500 MG / Caffeine 65 MG Oral Powder\n",
            "RxCUI: 702316, Name: aspirin 500 MG / caffeine 32.5 MG Oral Tablet, TTY: SCD, Synonym: ASA 500 MG / Caffeine 32.5 MG Oral Tablet\n",
            "RxCUI: 724614, Name: aspirin 325 MG / oxycodone hydrochloride 2.25 MG / oxycodone terephthalate 0.19 MG Oral Tablet, TTY: SCD, Synonym: ASA 325 MG / Oxycodone Hydrochloride 2.25 MG / oxycodone terephthalate 0.19 MG Oral Tablet\n",
            "RxCUI: 763111, Name: acetaminophen 325 MG / aspirin 500 MG Oral Powder, TTY: SCD, Synonym: APAP 325 MG / ASA 500 MG Oral Powder\n",
            "RxCUI: 763116, Name: acetaminophen 260 MG / aspirin 520 MG / caffeine 32.5 MG Oral Powder, TTY: SCD, Synonym: APAP 260 MG / ASA 520 MG / Caffeine 32.5 MG Oral Powder\n",
            "RxCUI: 797050, Name: aspirin 650 MG / caffeine 32 MG / salicylamide 200 MG Oral Powder, TTY: SCD, Synonym: ASA 650 MG / Caffeine 32 MG / salicylamide 200 MG Oral Powder\n",
            "RxCUI: 806446, Name: aspirin 500 MG / caffeine 65 MG Oral Tablet, TTY: SCD, Synonym: ASA 500 MG / Caffeine 65 MG Oral Tablet\n",
            "RxCUI: 827318, Name: acetaminophen 250 MG / aspirin 250 MG / caffeine 65 MG Oral Capsule, TTY: SCD, Synonym: APAP 250 MG / ASA 250 MG / Caffeine 65 MG Oral Capsule\n",
            "RxCUI: 828585, Name: aspirin 389 MG / caffeine 32.4 MG / propoxyphene hydrochloride 32 MG Oral Capsule, TTY: SCD, Synonym: ASA 389 MG / Caffeine 32.4 MG / Propoxyphene Hydrochloride 32 MG Oral Capsule\n",
            "RxCUI: 828594, Name: aspirin 389 MG / caffeine 32.4 MG / propoxyphene hydrochloride 65 MG Oral Capsule, TTY: SCD, Synonym: ASA 389 MG / Caffeine 32.4 MG / Propoxyphene Hydrochloride 65 MG Oral Capsule\n",
            "RxCUI: 848768, Name: aspirin 325 MG / oxycodone hydrochloride 4.84 MG Oral Tablet, TTY: SCD, Synonym: ASA 325 MG / oxycodone hydrochloride 4.84 MG Oral Tablet\n",
            "RxCUI: 853499, Name: aspirin 228 MG Chewing Gum, TTY: SCD, Synonym: ASA 228 MG Chewing Gum\n",
            "RxCUI: 857121, Name: aspirin 500 MG / hydrocodone bitartrate 5 MG Oral Tablet, TTY: SCD, Synonym: ASA 500 MG / Hydrocodone Bitartrate 5 MG Oral Tablet\n",
            "RxCUI: 863184, Name: aspirin 360 MG / caffeine 75 MG / magnesium carbonate 100 MG / magnesium salicylate 60 MG Oral Tablet, TTY: SCD, Synonym: ASA 360 MG / caffeine 75 MG / magnesium carbonate 100 MG / magnesium salicylate 60 MG Oral Tablet\n",
            "RxCUI: 863186, Name: aspirin 410 MG / caffeine 60 MG / salicylamide 30 MG Oral Tablet, TTY: SCD, Synonym: ASA 410 MG / Caffeine 60 MG / salicylamide 30 MG Oral Tablet\n",
            "RxCUI: 891134, Name: aspirin 15600 MG Oral Tablet, TTY: SCD, Synonym: ASA 15600 MG Oral Tablet\n",
            "RxCUI: 891136, Name: aspirin 31200 MG Oral Tablet, TTY: SCD, Synonym: ASA 31200 MG Oral Tablet\n",
            "RxCUI: 892160, Name: aspirin 3900 MG Oral Tablet, TTY: SCD, Synonym: aspirin 60 Grains\n",
            "RxCUI: 896884, Name: aspirin 742 MG / caffeine 38 MG / salicylamide 222 MG Oral Powder, TTY: SCD, Synonym: ASA 742 MG / Caffeine 38 MG / salicylamide 222 MG Oral Powder\n",
            "RxCUI: 900470, Name: aspirin 1 MG/MG Oral Powder, TTY: SCD, Synonym: ASA 1 MG/MG Oral Powder\n",
            "RxCUI: 900528, Name: aspirin 850 MG / caffeine 65 MG Oral Powder, TTY: SCD, Synonym: ASA 850 MG / Caffeine 65 MG Oral Powder\n",
            "RxCUI: 994226, Name: aspirin 325 MG / carisoprodol 200 MG / codeine phosphate 16 MG Oral Tablet, TTY: SCD, Synonym: ASA 325 MG / carisoprodol 200 MG / codeine phosphate 16 MG Oral Tablet\n",
            "RxCUI: 994237, Name: aspirin 325 MG / butalbital 50 MG / caffeine 40 MG / codeine phosphate 30 MG Oral Capsule, TTY: SCD, Synonym: ASA 325 MG / butalbital 50 MG / caffeine 40 MG / codeine phosphate 30 MG Oral Capsule\n",
            "RxCUI: 994430, Name: aspirin 1000 MG / caffeine 65 MG Oral Powder, TTY: SCD, Synonym: ASA 1000 MG / Caffeine 65 MG Oral Powder\n",
            "RxCUI: 994435, Name: aspirin 845 MG / caffeine 65 MG Oral Powder, TTY: SCD, Synonym: ASA 845 MG / Caffeine 65 MG Oral Powder\n",
            "RxCUI: 994528, Name: aspirin 385 MG / caffeine 30 MG / orphenadrine citrate 25 MG Oral Tablet, TTY: SCD, Synonym: ASA 385 MG / Caffeine 30 MG / Orphenadrine Citrate 25 MG Oral Tablet\n",
            "RxCUI: 994535, Name: aspirin 770 MG / caffeine 60 MG / orphenadrine citrate 50 MG Oral Tablet, TTY: SCD, Synonym: ASA 770 MG / caffeine 60 MG / orphenadrine citrate 50 MG Oral Tablet\n",
            "RxCUI: 994810, Name: aspirin 428 MG / caffeine 30 MG / orphenadrine citrate 25 MG Oral Tablet, TTY: SCD, Synonym: ASA 428 MG / Caffeine 30 MG / Orphenadrine Citrate 25 MG Oral Tablet\n",
            "RxCUI: 994811, Name: aspirin 856 MG / caffeine 60 MG / orphenadrine citrate 50 MG Oral Tablet, TTY: SCD, Synonym: ASA 856 MG / Caffeine 60 MG / Orphenadrine Citrate 50 MG Oral Tablet\n",
            "RxCUI: 996988, Name: aspirin 300 MG / codeine phosphate 8 MG Oral Tablet, TTY: SCD, Synonym: ASA 300 MG / Codeine Phosphate 8 MG Oral Tablet\n",
            "RxCUI: 996991, Name: aspirin 325 MG / codeine phosphate 30 MG Oral Tablet, TTY: SCD, Synonym: ASA 325 MG / Codeine Phosphate 30 MG Oral Tablet\n",
            "RxCUI: 996994, Name: aspirin 325 MG / codeine phosphate 60 MG Oral Tablet, TTY: SCD, Synonym: ASA 325 MG / Codeine Phosphate 60 MG Oral Tablet\n"
          ]
        }
      ]
    },
    {
      "cell_type": "code",
      "source": [
        "import requests\n",
        "\n",
        "# Define the URL here\n",
        "url = \"https://rxnav.nlm.nih.gov/REST/drugs.json?name=aspirin\"  # Example with aspirin\n",
        "\n",
        "response = requests.get(url)\n",
        "print(\"Response Status Code:\", response.status_code)"
      ],
      "metadata": {
        "colab": {
          "base_uri": "https://localhost:8080/"
        },
        "id": "7JCEpmZNNpGu",
        "outputId": "50daf3db-9bb8-438f-e1db-77a06426d715"
      },
      "execution_count": 9,
      "outputs": [
        {
          "output_type": "stream",
          "name": "stdout",
          "text": [
            "Response Status Code: 200\n"
          ]
        }
      ]
    },
    {
      "cell_type": "code",
      "source": [
        "drug_name = \"Cocaine\"  # Change to any drug name you want to search\n",
        "drug_data = get_drug_data(drug_name)\n",
        "\n",
        "# Optionally, display the data\n",
        "if drug_data:\n",
        "    for drug in drug_data:\n",
        "        print(f\"RxCUI: {drug['RxCUI']}, Name: {drug['Name']}, TTY: {drug['TTY']}\")\n"
      ],
      "metadata": {
        "id": "N4OMnCc7OsKg"
      },
      "execution_count": 12,
      "outputs": []
    },
    {
      "cell_type": "code",
      "source": [
        "data = response.json()  # Parse JSON response\n",
        "print(data)  # Add this line to inspect the response\n"
      ],
      "metadata": {
        "colab": {
          "base_uri": "https://localhost:8080/"
        },
        "id": "ibmWuEt4O4Vd",
        "outputId": "ddd62944-0592-45f3-b324-c1e5da5fdb93"
      },
      "execution_count": 13,
      "outputs": [
        {
          "output_type": "stream",
          "name": "stdout",
          "text": [
            "{'drugGroup': {'name': None, 'conceptGroup': [{'tty': 'BPCK', 'conceptProperties': [{'rxcui': '2047428', 'name': '{100 (acetaminophen 250 MG / aspirin 250 MG / caffeine 65 MG Oral Tablet [Excedrin]) / 24 (acetaminophen 250 MG / aspirin 250 MG / diphenhydramine citrate 38 MG Oral Tablet [Excedrin PM Triple Action]) } Pack [Excedrin PM Triple Action Caplets and Excedrin Extra Strength Pain Reliever]', 'synonym': 'Excedrin PM Triple Action Caplets and Excedrin Extra Strength Pain Reliever Kit', 'tty': 'BPCK', 'language': 'ENG', 'suppress': 'N', 'umlscui': ''}]}, {'tty': 'GPCK', 'conceptProperties': [{'rxcui': '1730187', 'name': '{1 (aspirin 325 MG / dextromethorphan hydrobromide 10 MG / phenylephrine bitartrate 7.8 MG Effervescent Oral Tablet) / 1 (aspirin 500 MG / dextromethorphan hydrobromide 10 MG / doxylamine succinate 6.25 MG / phenylephrine bitartrate 7.8 MG Effervescent Oral Tablet) } Pack', 'synonym': '1 daytime (aspirin 325 MG / dextromethorphan HBr 10 MG / phenylephrine bitartrate 7.8 MG Effervescent Oral Tablet) / 1 nighttime (aspirin 500 MG / dextromethorphan HBr 10 MG / doxylamine succinate 6.25 MG / phenylephrine bitartrate 7.8 MG Effervescent Oral Tablet) Pack', 'tty': 'GPCK', 'language': 'ENG', 'suppress': 'N', 'umlscui': ''}, {'rxcui': '2047427', 'name': '{100 (acetaminophen 250 MG / aspirin 250 MG / caffeine 65 MG Oral Tablet) / 24 (acetaminophen 250 MG / aspirin 250 MG / diphenhydramine citrate 38 MG Oral Tablet) } Pack', 'synonym': '100 daytime (acetaminophen 250 MG / aspirin 250 MG / caffeine 65 MG Oral Tablet) / 24 nighttime (acetaminophen 250 MG / aspirin 250 MG / diphenhydramine citrate 38 MG Oral Tablet) Kit', 'tty': 'GPCK', 'language': 'ENG', 'suppress': 'N', 'umlscui': ''}, {'rxcui': '2565492', 'name': '{1 (aspirin 325 MG / dextromethorphan hydrobromide 10 MG / doxylamine succinate 6.25 MG / phenylephrine bitartrate 7.8 MG Effervescent Oral Tablet) / 1 (aspirin 325 MG / dextromethorphan hydrobromide 10 MG / phenylephrine bitartrate 7.8 MG Effervescent Oral Tablet) } Pack', 'synonym': '1 daytime (aspirin 325 MG / dextromethorphan HBr 10 MG / phenylephrine bitartrate 7.8 MG Effervescent Oral Tablet) / 1 nighttime (aspirin 325 MG / dextromethorphan HBr 10 MG / doxylamine succinate 6.25 MG / phenylephrine bitartrate 7.8 MG Effervescent Oral Tablet) Pack', 'tty': 'GPCK', 'language': 'ENG', 'suppress': 'N', 'umlscui': ''}, {'rxcui': '2664074', 'name': '{1 (aspirin 325 MG / chlorpheniramine maleate 2 MG / dextromethorphan hydrobromide 10 MG / phenylephrine bitartrate 7.8 MG Effervescent Oral Tablet) / 1 (aspirin 325 MG / dextromethorphan hydrobromide 10 MG / phenylephrine bitartrate 7.8 MG Effervescent Oral Tablet) } Pack', 'synonym': '1 daytime (aspirin 325 MG / dextromethorphan HBr 10 MG / phenylephrine bitartrate 7.8 MG Effervescent Oral Tablet) / 1 nighttime (aspirin 325 MG / chlorpheniramine maleate 2 MG / dextromethorphan HBr 10 MG / phenylephrine bitartrate 7.8 MG Effervescent Oral Tablet) Pack', 'tty': 'GPCK', 'language': 'ENG', 'suppress': 'N', 'umlscui': ''}, {'rxcui': '904664', 'name': '{30 (aspirin 325 MG Oral Tablet) / 30 (pravastatin sodium 80 MG Oral Tablet) } Pack', 'synonym': '', 'tty': 'GPCK', 'language': 'ENG', 'suppress': 'N', 'umlscui': ''}, {'rxcui': '904668', 'name': '{30 (aspirin 81 MG Oral Tablet) / 30 (pravastatin sodium 40 MG Oral Tablet) } Pack', 'synonym': '', 'tty': 'GPCK', 'language': 'ENG', 'suppress': 'N', 'umlscui': ''}]}, {'tty': 'SBD', 'conceptProperties': [{'rxcui': '1001476', 'name': 'aspirin 325 MG Delayed Release Oral Tablet [Ecpirin]', 'synonym': 'Ecpirin 325 MG Delayed Release Oral Tablet', 'tty': 'SBD', 'language': 'ENG', 'suppress': 'N', 'umlscui': ''}, {'rxcui': '1052416', 'name': 'acetaminophen 250 MG / aspirin 250 MG / caffeine 65 MG Oral Tablet [Pamprin Max Formula]', 'synonym': 'APAP 250 MG / ASA 250 MG / Caffeine 65 MG Oral Tablet [Pamprin Max Formula]', 'tty': 'SBD', 'language': 'ENG', 'suppress': 'N', 'umlscui': ''}, {'rxcui': '1052678', 'name': 'aspirin 81 MG Delayed Release Oral Tablet [Miniprin]', 'synonym': 'Miniprin 81 MG Delayed Release Oral Tablet', 'tty': 'SBD', 'language': 'ENG', 'suppress': 'N', 'umlscui': ''}, {'rxcui': '1053327', 'name': 'aspirin 845 MG / caffeine 65 MG Oral Powder [Stanback Headache Powder Reformulated Jan 2011]', 'synonym': 'ASA 845 MG / Caffeine 65 MG Oral Powder [Stanback Headache Powder Reformulated Jan 2011]', 'tty': 'SBD', 'language': 'ENG', 'suppress': 'N', 'umlscui': ''}, {'rxcui': '1101754', 'name': 'acetaminophen 194 MG / aspirin 227 MG / caffeine 33 MG Oral Tablet [Vanquish]', 'synonym': 'APAP 194 MG / ASA 227 MG / Caffeine 33 MG Oral Tablet [Vanquish]', 'tty': 'SBD', 'language': 'ENG', 'suppress': 'N', 'umlscui': ''}, {'rxcui': '1189781', 'name': 'aspirin 81 MG Delayed Release Oral Tablet [Ecotrin]', 'synonym': 'Ecotrin 81 MG Delayed Release Oral Tablet', 'tty': 'SBD', 'language': 'ENG', 'suppress': 'N', 'umlscui': ''}, {'rxcui': '1247397', 'name': 'aspirin 1000 MG / caffeine 65 MG Oral Powder [BC Arthritis]', 'synonym': 'ASA 1000 MG / Caffeine 65 MG Oral Powder [BC Arthritis]', 'tty': 'SBD', 'language': 'ENG', 'suppress': 'N', 'umlscui': ''}, {'rxcui': '1247402', 'name': 'aspirin 845 MG / caffeine 65 MG Oral Powder [BC Original Formula]', 'synonym': 'BC Pain Relief (ASA 845 MG / caffeine 65 MG) Oral Powder', 'tty': 'SBD', 'language': 'ENG', 'suppress': 'N', 'umlscui': ''}, {'rxcui': '1250909', 'name': 'aspirin 500 MG / diphenhydramine citrate 38.3 MG Oral Tablet [Bayer Aspirin PM Reformulated Nov 2011]', 'synonym': 'ASA 500 MG / diphenhydramine citrate 38.3 MG Oral Tablet [Bayer Aspirin PM Reformulated Nov 2011]', 'tty': 'SBD', 'language': 'ENG', 'suppress': 'N', 'umlscui': ''}, {'rxcui': '1293665', 'name': 'aspirin 81 MG Delayed Release Oral Tablet [Aspir-Low]', 'synonym': 'Aspir-Low 81 MG Delayed Release Oral Tablet', 'tty': 'SBD', 'language': 'ENG', 'suppress': 'N', 'umlscui': ''}, {'rxcui': '1303159', 'name': 'acetaminophen 250 MG / aspirin 250 MG / caffeine 65 MG Oral Tablet [Arthriten Inflammatory Pain]', 'synonym': 'APAP 250 MG / ASA 250 MG / Caffeine 65 MG Oral Tablet [Arthriten Inflammatory Pain]', 'tty': 'SBD', 'language': 'ENG', 'suppress': 'N', 'umlscui': ''}, {'rxcui': '1304215', 'name': 'aspirin 500 MG / caffeine 32.5 MG Oral Tablet [Bayer Headache Relief]', 'synonym': 'ASA 500 MG / Caffeine 32.5 MG Oral Tablet [Bayer Headache Relief]', 'tty': 'SBD', 'language': 'ENG', 'suppress': 'N', 'umlscui': ''}, {'rxcui': '1358853', 'name': 'acetaminophen 110 MG / aspirin 162 MG / caffeine 32.4 MG / salicylamide 152 MG Oral Tablet [Exaprin]', 'synonym': 'APAP 110 MG / ASA 162 MG / Caffeine 32.4 MG / salicylamide 152 MG Oral Tablet [Exaprin]', 'tty': 'SBD', 'language': 'ENG', 'suppress': 'N', 'umlscui': ''}, {'rxcui': '1361402', 'name': 'acetaminophen 250 MG / aspirin 250 MG / caffeine 65 MG Oral Tablet [Backaid IPF]', 'synonym': 'APAP 250 MG / ASA 250 MG / Caffeine 65 MG Oral Tablet [Backaid IPF]', 'tty': 'SBD', 'language': 'ENG', 'suppress': 'N', 'umlscui': ''}, {'rxcui': '1536680', 'name': 'aspirin 325 MG / citric acid 1000 MG / sodium bicarbonate 1916 MG Effervescent Oral Tablet [Alka-Seltzer]', 'synonym': 'ASA 325 MG / Citric Acid 1000 MG / NaHCO3 1916 MG Effervescent Oral Tablet [Alka-Seltzer]', 'tty': 'SBD', 'language': 'ENG', 'suppress': 'N', 'umlscui': ''}, {'rxcui': '1536835', 'name': 'aspirin 500 MG / citric acid 1000 MG / sodium bicarbonate 1985 MG Effervescent Oral Tablet [Alka-Seltzer]', 'synonym': 'ASA 500 MG / Citric Acid 1000 MG / NaHCO3 1985 MG Effervescent Oral Tablet [Alka-Seltzer]', 'tty': 'SBD', 'language': 'ENG', 'suppress': 'N', 'umlscui': ''}, {'rxcui': '1537012', 'name': 'aspirin 325 MG / citric acid 1000 MG / sodium bicarbonate 1916 MG Effervescent Oral Tablet [Bromo Seltzer Antacid Pain Reliever]', 'synonym': 'ASA 325 MG / Citric Acid 1000 MG / NaHCO3 1916 MG Effervescent Oral Tablet [Bromo Seltzer Antacid Pain Reliever]', 'tty': 'SBD', 'language': 'ENG', 'suppress': 'N', 'umlscui': ''}, {'rxcui': '1593116', 'name': 'acetaminophen 250 MG / aspirin 250 MG / diphenhydramine citrate 38 MG Oral Tablet [Excedrin PM Triple Action]', 'synonym': 'APAP 250 MG / ASA 250 MG / Diphenhydramine Citrate 38 MG Oral Tablet [Excedrin PM Triple Action]', 'tty': 'SBD', 'language': 'ENG', 'suppress': 'N', 'umlscui': ''}, {'rxcui': '1600991', 'name': 'aspirin 81 MG Delayed Release Oral Tablet [Aspi-Cor]', 'synonym': 'Aspi-Cor 81 MG Delayed Release Oral Tablet', 'tty': 'SBD', 'language': 'ENG', 'suppress': 'N', 'umlscui': ''}, {'rxcui': '1665362', 'name': '24 HR aspirin 162.5 MG Extended Release Oral Capsule [Durlaza]', 'synonym': 'Durlaza 162.5 MG 24HR Extended Release Oral Capsule', 'tty': 'SBD', 'language': 'ENG', 'suppress': 'N', 'umlscui': ''}, {'rxcui': '1722695', 'name': 'aspirin 81 MG / calcium carbonate 777 MG Oral Tablet [Bayer Womens]', 'synonym': 'ASA 81 MG / Calcium Carbonate 777 MG Oral Tablet [Bayer Womens]', 'tty': 'SBD', 'language': 'ENG', 'suppress': 'N', 'umlscui': ''}, {'rxcui': '1811916', 'name': 'aspirin 325 MG / omeprazole 40 MG Delayed Release Oral Tablet [Yosprala]', 'synonym': 'ASA 325 MG / Omeprazole 40 MG Delayed Release Oral Tablet [Yosprala]', 'tty': 'SBD', 'language': 'ENG', 'suppress': 'N', 'umlscui': ''}, {'rxcui': '1811918', 'name': 'aspirin 81 MG / omeprazole 40 MG Delayed Release Oral Tablet [Yosprala]', 'synonym': 'ASA 81 MG / Omeprazole 40 MG Delayed Release Oral Tablet [Yosprala]', 'tty': 'SBD', 'language': 'ENG', 'suppress': 'N', 'umlscui': ''}, {'rxcui': '1872088', 'name': 'aspirin 500 MG / citric acid 1000 MG / sodium bicarbonate 1985 MG Granules for Oral Solution [Alka-Seltzer]', 'synonym': 'ASA 500 MG / Citric Acid 1000 MG / NaHCO3 1985 MG Granules for Oral Solution [Alka-Seltzer]', 'tty': 'SBD', 'language': 'ENG', 'suppress': 'N', 'umlscui': ''}, {'rxcui': '1925790', 'name': 'aspirin 325 MG / citric acid 1000 MG / sodium bicarbonate 1700 MG Effervescent Oral Tablet [Alka-Seltzer]', 'synonym': 'ASA 325 MG / Citric Acid 1000 MG / NaHCO3 1700 MG Effervescent Oral Tablet [Alka-Seltzer]', 'tty': 'SBD', 'language': 'ENG', 'suppress': 'N', 'umlscui': ''}, {'rxcui': '1944113', 'name': 'acetaminophen 250 MG / aspirin 250 MG / caffeine 65 MG Oral Tablet [Arthriten Max]', 'synonym': 'APAP 250 MG / ASA 250 MG / Caffeine 65 MG Oral Tablet [Arthriten Max]', 'tty': 'SBD', 'language': 'ENG', 'suppress': 'N', 'umlscui': ''}, {'rxcui': '209468', 'name': 'acetaminophen 250 MG / aspirin 250 MG / caffeine 65 MG Oral Tablet [Excedrin]', 'synonym': 'APAP 250 MG / ASA 250 MG / Caffeine 65 MG Oral Tablet [Excedrin]', 'tty': 'SBD', 'language': 'ENG', 'suppress': 'N', 'umlscui': ''}, {'rxcui': '209823', 'name': 'aspirin 325 MG / meprobamate 200 MG Oral Tablet [Equagesic]', 'synonym': 'ASA 325 MG / Meprobamate 200 MG Oral Tablet [Equagesic]', 'tty': 'SBD', 'language': 'ENG', 'suppress': 'N', 'umlscui': ''}, {'rxcui': '210864', 'name': 'acetaminophen 115 MG / aspirin 210 MG / caffeine 16 MG / salicylamide 65 MG Oral Tablet [Saleto]', 'synonym': 'APAP 115 MG / ASA 210 MG / Caffeine 16 MG / salicylamide 65 MG Oral Tablet [Saleto]', 'tty': 'SBD', 'language': 'ENG', 'suppress': 'N', 'umlscui': ''}, {'rxcui': '211292', 'name': 'aspirin 400 MG / caffeine 32 MG Oral Tablet [Anacin]', 'synonym': 'ASA 400 MG / Caffeine 32 MG Oral Tablet [Anacin]', 'tty': 'SBD', 'language': 'ENG', 'suppress': 'N', 'umlscui': ''}, {'rxcui': '211297', 'name': 'aspirin 400 MG / caffeine 32 MG Oral Tablet [P-A-C Analgesic]', 'synonym': 'ASA 400 MG / Caffeine 32 MG Oral Tablet [P-A-C Analgesic]', 'tty': 'SBD', 'language': 'ENG', 'suppress': 'N', 'umlscui': ''}, {'rxcui': '211832', 'name': 'aspirin 81 MG Chewable Tablet [St. Joseph Aspirin]', 'synonym': 'St. Joseph Aspirin 81 MG Chewable Tablet', 'tty': 'SBD', 'language': 'ENG', 'suppress': 'N', 'umlscui': ''}, {'rxcui': '211874', 'name': 'aspirin 325 MG Oral Tablet [Bayer Aspirin]', 'synonym': 'Bayer Aspirin 325 MG Oral Tablet', 'tty': 'SBD', 'language': 'ENG', 'suppress': 'N', 'umlscui': ''}, {'rxcui': '211881', 'name': 'aspirin 325 MG Oral Tablet [Norwich Aspirin]', 'synonym': 'Norwich Aspirin 325 MG Oral Tablet', 'tty': 'SBD', 'language': 'ENG', 'suppress': 'N', 'umlscui': ''}, {'rxcui': '211887', 'name': 'aspirin 500 MG Oral Tablet [Bayer Aspirin]', 'synonym': 'Bayer Aspirin 500 MG Oral Tablet', 'tty': 'SBD', 'language': 'ENG', 'suppress': 'N', 'umlscui': ''}, {'rxcui': '211891', 'name': 'aspirin 500 MG Oral Tablet [Norwich Aspirin]', 'synonym': 'Norwich Aspirin 500 MG Oral Tablet', 'tty': 'SBD', 'language': 'ENG', 'suppress': 'N', 'umlscui': ''}, {'rxcui': '212086', 'name': 'aspirin 325 MG Delayed Release Oral Tablet [Ecotrin]', 'synonym': 'Ecotrin 325 MG Delayed Release Oral Tablet', 'tty': 'SBD', 'language': 'ENG', 'suppress': 'N', 'umlscui': ''}, {'rxcui': '2563428', 'name': 'aspirin 325 MG Oral Capsule [Vazalore]', 'synonym': 'Vazalore 325 MG Oral Capsule', 'tty': 'SBD', 'language': 'ENG', 'suppress': 'N', 'umlscui': ''}, {'rxcui': '2563431', 'name': 'aspirin 81 MG Oral Capsule [Vazalore]', 'synonym': 'Vazalore 81 MG Oral Capsule', 'tty': 'SBD', 'language': 'ENG', 'suppress': 'N', 'umlscui': ''}, {'rxcui': '260847', 'name': 'aspirin 325 MG Oral Tablet [Bufferin]', 'synonym': 'Bufferin 325 MG Oral Tablet', 'tty': 'SBD', 'language': 'ENG', 'suppress': 'N', 'umlscui': ''}, {'rxcui': '387090', 'name': 'aspirin 325 MG Delayed Release Oral Tablet [Bayer Aspirin]', 'synonym': 'Bayer Aspirin 325 MG Delayed Release Oral Tablet', 'tty': 'SBD', 'language': 'ENG', 'suppress': 'N', 'umlscui': ''}, {'rxcui': '608696', 'name': 'aspirin 500 MG / caffeine 32 MG Oral Tablet [Anacin]', 'synonym': 'ASA 500 MG / Caffeine 32 MG Oral Tablet [Anacin]', 'tty': 'SBD', 'language': 'ENG', 'suppress': 'N', 'umlscui': ''}, {'rxcui': '702320', 'name': 'aspirin 500 MG / caffeine 32.5 MG Oral Tablet [Bayer Back and Body Pain]', 'synonym': 'ASA 500 MG / Caffeine 32.5 MG Oral Tablet [Bayer Back and Body Pain]', 'tty': 'SBD', 'language': 'ENG', 'suppress': 'N', 'umlscui': ''}, {'rxcui': '723530', 'name': 'acetaminophen 250 MG / aspirin 250 MG Oral Tablet [Excedrin Back & Body]', 'synonym': 'APAP 250 MG / ASA 250 MG Oral Tablet [Excedrin Back & Body]', 'tty': 'SBD', 'language': 'ENG', 'suppress': 'N', 'umlscui': ''}, {'rxcui': '723533', 'name': 'acetaminophen 250 MG / aspirin 250 MG / caffeine 65 MG Oral Tablet [Anacin Advanced Headache Formula]', 'synonym': 'APAP 250 MG / ASA 250 MG / Caffeine 65 MG Oral Tablet [Anacin Advanced Headache Formula]', 'tty': 'SBD', 'language': 'ENG', 'suppress': 'N', 'umlscui': ''}, {'rxcui': '724444', 'name': 'aspirin 81 MG Oral Tablet [Anacin Aspirin Regimen]', 'synonym': 'Anacin Aspirin Regimen 81 MG Oral Tablet', 'tty': 'SBD', 'language': 'ENG', 'suppress': 'N', 'umlscui': ''}, {'rxcui': '749795', 'name': 'aspirin 81 MG Delayed Release Oral Tablet [St. Joseph Aspirin]', 'synonym': 'St. Joseph Aspirin 81 MG Delayed Release Oral Tablet', 'tty': 'SBD', 'language': 'ENG', 'suppress': 'N', 'umlscui': ''}, {'rxcui': '794229', 'name': 'aspirin 81 MG Delayed Release Oral Tablet [Bayer Aspirin]', 'synonym': 'Bayer Aspirin 81 MG Delayed Release Oral Tablet', 'tty': 'SBD', 'language': 'ENG', 'suppress': 'N', 'umlscui': ''}, {'rxcui': '825180', 'name': 'aspirin 81 MG Chewable Tablet [Bayer Aspirin]', 'synonym': 'Bayer Aspirin 81 MG Chewable Tablet', 'tty': 'SBD', 'language': 'ENG', 'suppress': 'N', 'umlscui': ''}, {'rxcui': '848166', 'name': 'aspirin 500 MG Oral Tablet [Bufferin]', 'synonym': 'Bufferin 500 MG Oral Tablet', 'tty': 'SBD', 'language': 'ENG', 'suppress': 'N', 'umlscui': ''}, {'rxcui': '848928', 'name': 'aspirin 325 MG / oxycodone hydrochloride 4.84 MG Oral Tablet [Endodan Reformulated May 2009]', 'synonym': 'ASA 325 MG / Oxycodone Hydrochloride 4.84 MG Oral Tablet [Endodan Reformulated May 2009]', 'tty': 'SBD', 'language': 'ENG', 'suppress': 'N', 'umlscui': ''}, {'rxcui': '853501', 'name': 'aspirin 228 MG Chewing Gum [Aspergum]', 'synonym': 'Aspergum 227.5 MG Chewing Gum', 'tty': 'SBD', 'language': 'ENG', 'suppress': 'N', 'umlscui': ''}, {'rxcui': '994239', 'name': 'aspirin 325 MG / butalbital 50 MG / caffeine 40 MG / codeine phosphate 30 MG Oral Capsule [Ascomp]', 'synonym': 'ASA 325 MG / butalbital 50 MG / Caffeine 40 MG / Codeine Phosphate 30 MG Oral Capsule [Ascomp]', 'tty': 'SBD', 'language': 'ENG', 'suppress': 'N', 'umlscui': ''}, {'rxcui': '994530', 'name': 'aspirin 385 MG / caffeine 30 MG / orphenadrine citrate 25 MG Oral Tablet [Norgesic]', 'synonym': 'Norgesic 25/385/30 (orphenadrine / aspirin / caffeine) Oral Tablet', 'tty': 'SBD', 'language': 'ENG', 'suppress': 'N', 'umlscui': ''}, {'rxcui': '994537', 'name': 'aspirin 770 MG / caffeine 60 MG / orphenadrine citrate 50 MG Oral Tablet [Norgesic]', 'synonym': 'Norgesic forte 50/770/60 (orphenadrine / aspirin / caffeine) Oral Tablet', 'tty': 'SBD', 'language': 'ENG', 'suppress': 'N', 'umlscui': ''}, {'rxcui': '994539', 'name': 'aspirin 770 MG / caffeine 60 MG / orphenadrine citrate 50 MG Oral Tablet [Orphengesic]', 'synonym': 'ASA 770 MG / Caffeine 60 MG / Orphenadrine Citrate 50 MG Oral Tablet [Orphengesic]', 'tty': 'SBD', 'language': 'ENG', 'suppress': 'N', 'umlscui': ''}]}, {'tty': 'SCD', 'conceptProperties': [{'rxcui': '103863', 'name': 'aspirin 150 MG Rectal Suppository', 'synonym': 'ASA 150 MG Rectal Suppository', 'tty': 'SCD', 'language': 'ENG', 'suppress': 'N', 'umlscui': ''}, {'rxcui': '103954', 'name': 'aspirin 75 MG Delayed Release Oral Tablet', 'synonym': 'ASA 75 MG Delayed Release Oral Tablet', 'tty': 'SCD', 'language': 'ENG', 'suppress': 'N', 'umlscui': ''}, {'rxcui': '104474', 'name': 'aspirin 75 MG Oral Tablet', 'synonym': 'ASA 75 MG Oral Tablet', 'tty': 'SCD', 'language': 'ENG', 'suppress': 'N', 'umlscui': ''}, {'rxcui': '104475', 'name': 'aspirin 75 MG Disintegrating Oral Tablet', 'synonym': 'ASA 75 MG Disintegrating Oral Tablet', 'tty': 'SCD', 'language': 'ENG', 'suppress': 'N', 'umlscui': ''}, {'rxcui': '104899', 'name': 'aspirin 300 MG Delayed Release Oral Tablet', 'synonym': 'ASA 300 MG Delayed Release Oral Tablet', 'tty': 'SCD', 'language': 'ENG', 'suppress': 'N', 'umlscui': ''}, {'rxcui': '106809', 'name': 'aspirin 500 MG / glycine 133 MG Disintegrating Oral Tablet', 'synonym': 'ASA 500 MG / Glycine 133 MG Disintegrating Oral Tablet', 'tty': 'SCD', 'language': 'ENG', 'suppress': 'N', 'umlscui': ''}, {'rxcui': '1092398', 'name': 'aspirin 500 MG / diphenhydramine hydrochloride 25 MG Oral Tablet', 'synonym': 'ASA 500 MG / Diphenhydramine Hydrochloride 25 MG Oral Tablet', 'tty': 'SCD', 'language': 'ENG', 'suppress': 'N', 'umlscui': ''}, {'rxcui': '1234872', 'name': 'aspirin 356.4 MG / caffeine 30 MG / dihydrocodeine bitartrate 16 MG Oral Capsule', 'synonym': 'ASA 356.4 MG / caffeine 30 MG / dihydrocodeine bitartrate 16 MG Oral Capsule', 'tty': 'SCD', 'language': 'ENG', 'suppress': 'N', 'umlscui': ''}, {'rxcui': '1250907', 'name': 'aspirin 500 MG / diphenhydramine citrate 38.3 MG Oral Tablet', 'synonym': 'ASA 500 MG / Diphenhydramine Citrate 38.3 MG Oral Tablet', 'tty': 'SCD', 'language': 'ENG', 'suppress': 'N', 'umlscui': ''}, {'rxcui': '1291868', 'name': 'aspirin 325 MG / diphenhydramine citrate 38 MG Oral Tablet', 'synonym': 'ASA 325 MG / Diphenhydramine Citrate 38 MG Oral Tablet', 'tty': 'SCD', 'language': 'ENG', 'suppress': 'N', 'umlscui': ''}, {'rxcui': '1433630', 'name': 'aspirin 120 MG Chewable Tablet', 'synonym': 'ASA 120 MG Chewable Tablet', 'tty': 'SCD', 'language': 'ENG', 'suppress': 'N', 'umlscui': ''}, {'rxcui': '1536467', 'name': 'aspirin 325 MG / citric acid 1000 MG / sodium bicarbonate 1700 MG Effervescent Oral Tablet', 'synonym': 'ASA 325 MG / Citric Acid 1000 MG / NaHCO3 1700 MG Effervescent Oral Tablet', 'tty': 'SCD', 'language': 'ENG', 'suppress': 'N', 'umlscui': ''}, {'rxcui': '1536498', 'name': 'aspirin 325 MG / dextromethorphan hydrobromide 10 MG / phenylephrine bitartrate 7.8 MG Effervescent Oral Tablet', 'synonym': 'ASA 325 MG / Dextromethorphan Hydrobromide 10 MG / Phenylephrine bitartrate 7.8 MG Effervescent Oral Tablet', 'tty': 'SCD', 'language': 'ENG', 'suppress': 'N', 'umlscui': ''}, {'rxcui': '1536503', 'name': 'aspirin 500 MG / dextromethorphan hydrobromide 10 MG / doxylamine succinate 6.25 MG / phenylephrine bitartrate 7.8 MG Effervescent Oral Tablet', 'synonym': 'ASA 500 MG / Dextromethorphan Hydrobromide 10 MG / doxylamine succinate 6.25 MG / Phenylephrine bitartrate 7.8 MG Effervescent Oral Tablet', 'tty': 'SCD', 'language': 'ENG', 'suppress': 'N', 'umlscui': ''}, {'rxcui': '1536675', 'name': 'aspirin 325 MG / citric acid 1000 MG / sodium bicarbonate 1916 MG Effervescent Oral Tablet', 'synonym': 'ASA 325 MG / Citric Acid 1000 MG / NaHCO3 1916 MG Effervescent Oral Tablet', 'tty': 'SCD', 'language': 'ENG', 'suppress': 'N', 'umlscui': ''}, {'rxcui': '1536815', 'name': 'aspirin 500 MG / caffeine 65 MG Effervescent Oral Tablet', 'synonym': 'ASA 500 MG / Caffeine 65 MG Effervescent Oral Tablet', 'tty': 'SCD', 'language': 'ENG', 'suppress': 'N', 'umlscui': ''}, {'rxcui': '1536833', 'name': 'aspirin 500 MG / citric acid 1000 MG / sodium bicarbonate 1985 MG Effervescent Oral Tablet', 'synonym': 'ASA 500 MG / Citric Acid 1000 MG / NaHCO3 1985 MG Effervescent Oral Tablet', 'tty': 'SCD', 'language': 'ENG', 'suppress': 'N', 'umlscui': ''}, {'rxcui': '1536840', 'name': 'aspirin 325 MG / chlorpheniramine maleate 2 MG / phenylephrine bitartrate 7.8 MG Effervescent Oral Tablet', 'synonym': 'ASA 325 MG / Chlorpheniramine Maleate 2 MG / Phenylephrine bitartrate 7.8 MG Effervescent Oral Tablet', 'tty': 'SCD', 'language': 'ENG', 'suppress': 'N', 'umlscui': ''}, {'rxcui': '1536993', 'name': 'aspirin 500 MG / chlorpheniramine maleate 2 MG / phenylephrine bitartrate 8 MG Effervescent Oral Tablet', 'synonym': 'ASA 500 MG / Chlorpheniramine Maleate 2 MG / Phenylephrine bitartrate 8 MG Effervescent Oral Tablet', 'tty': 'SCD', 'language': 'ENG', 'suppress': 'N', 'umlscui': ''}, {'rxcui': '1537019', 'name': 'aspirin 500 MG / caffeine 60 MG Effervescent Oral Tablet', 'synonym': 'ASA 500 MG / Caffeine 60 MG Effervescent Oral Tablet', 'tty': 'SCD', 'language': 'ENG', 'suppress': 'N', 'umlscui': ''}, {'rxcui': '1537029', 'name': 'aspirin 325 MG / chlorpheniramine maleate 2 MG / dextromethorphan hydrobromide 10 MG / phenylephrine bitartrate 7.8 MG Effervescent Oral Tablet', 'synonym': 'ASA 325 MG / Chlorpheniramine Maleate 2 MG / Dextromethorphan Hydrobromide 10 MG / Phenylephrine bitartrate 7.8 MG Effervescent Oral Tablet', 'tty': 'SCD', 'language': 'ENG', 'suppress': 'N', 'umlscui': ''}, {'rxcui': '1593110', 'name': 'acetaminophen 250 MG / aspirin 250 MG / diphenhydramine citrate 38 MG Oral Tablet', 'synonym': 'APAP 250 MG / ASA 250 MG / Diphenhydramine Citrate 38 MG Oral Tablet', 'tty': 'SCD', 'language': 'ENG', 'suppress': 'N', 'umlscui': ''}, {'rxcui': '1665356', 'name': '24 HR aspirin 162.5 MG Extended Release Oral Capsule', 'synonym': '24 HR ASA 162.5 MG Extended Release Oral Capsule', 'tty': 'SCD', 'language': 'ENG', 'suppress': 'N', 'umlscui': ''}, {'rxcui': '1722689', 'name': 'aspirin 81 MG / calcium carbonate 777 MG Oral Tablet', 'synonym': 'ASA 81 MG / Calcium Carbonate 777 MG Oral Tablet', 'tty': 'SCD', 'language': 'ENG', 'suppress': 'N', 'umlscui': ''}, {'rxcui': '1811631', 'name': 'aspirin 81 MG / omeprazole 40 MG Delayed Release Oral Tablet', 'synonym': 'ASA 81 MG / Omeprazole 40 MG Delayed Release Oral Tablet', 'tty': 'SCD', 'language': 'ENG', 'suppress': 'N', 'umlscui': ''}, {'rxcui': '1811632', 'name': 'aspirin 325 MG / omeprazole 40 MG Delayed Release Oral Tablet', 'synonym': 'ASA 325 MG / Omeprazole 40 MG Delayed Release Oral Tablet', 'tty': 'SCD', 'language': 'ENG', 'suppress': 'N', 'umlscui': ''}, {'rxcui': '1872085', 'name': 'aspirin 500 MG / citric acid 1000 MG / sodium bicarbonate 1985 MG Granules for Oral Solution', 'synonym': 'ASA 500 MG / Citric Acid 1000 MG / NaHCO3 1985 MG Granules for Oral Solution', 'tty': 'SCD', 'language': 'ENG', 'suppress': 'N', 'umlscui': ''}, {'rxcui': '197447', 'name': 'aspirin 325 MG / carisoprodol 200 MG Oral Tablet', 'synonym': 'ASA 325 MG / Carisoprodol 200 MG Oral Tablet', 'tty': 'SCD', 'language': 'ENG', 'suppress': 'N', 'umlscui': ''}, {'rxcui': '197930', 'name': 'aspirin 325 MG / meprobamate 200 MG Oral Tablet', 'synonym': 'ASA 325 MG / Meprobamate 200 MG Oral Tablet', 'tty': 'SCD', 'language': 'ENG', 'suppress': 'N', 'umlscui': ''}, {'rxcui': '197945', 'name': 'aspirin 325 MG / methocarbamol 400 MG Oral Tablet', 'synonym': 'ASA 325 MG / Methocarbamol 400 MG Oral Tablet', 'tty': 'SCD', 'language': 'ENG', 'suppress': 'N', 'umlscui': ''}, {'rxcui': '198461', 'name': 'aspirin 120 MG Rectal Suppository', 'synonym': 'ASA 120 MG Rectal Suppository', 'tty': 'SCD', 'language': 'ENG', 'suppress': 'N', 'umlscui': ''}, {'rxcui': '198463', 'name': 'aspirin 200 MG Rectal Suppository', 'synonym': 'ASA 200 MG Rectal Suppository', 'tty': 'SCD', 'language': 'ENG', 'suppress': 'N', 'umlscui': ''}, {'rxcui': '198464', 'name': 'aspirin 300 MG Rectal Suppository', 'synonym': 'ASA 300 MG Rectal Suppository', 'tty': 'SCD', 'language': 'ENG', 'suppress': 'N', 'umlscui': ''}, {'rxcui': '198466', 'name': 'aspirin 325 MG Oral Capsule', 'synonym': 'ASA 325 MG Oral Capsule', 'tty': 'SCD', 'language': 'ENG', 'suppress': 'N', 'umlscui': ''}, {'rxcui': '198467', 'name': 'aspirin 325 MG Delayed Release Oral Tablet', 'synonym': 'ASA 325 MG Delayed Release Oral Tablet', 'tty': 'SCD', 'language': 'ENG', 'suppress': 'N', 'umlscui': ''}, {'rxcui': '198471', 'name': 'aspirin 500 MG Oral Tablet', 'synonym': 'ASA 500 MG Oral Tablet', 'tty': 'SCD', 'language': 'ENG', 'suppress': 'N', 'umlscui': ''}, {'rxcui': '198473', 'name': 'aspirin 600 MG Rectal Suppository', 'synonym': 'ASA 600 MG Rectal Suppository', 'tty': 'SCD', 'language': 'ENG', 'suppress': 'N', 'umlscui': ''}, {'rxcui': '198475', 'name': 'aspirin 650 MG Oral Tablet', 'synonym': 'ASA 650 MG Oral Tablet', 'tty': 'SCD', 'language': 'ENG', 'suppress': 'N', 'umlscui': ''}, {'rxcui': '198477', 'name': 'aspirin 162 MG Delayed Release Oral Tablet', 'synonym': 'ASA 162 MG Delayed Release Oral Tablet', 'tty': 'SCD', 'language': 'ENG', 'suppress': 'N', 'umlscui': ''}, {'rxcui': '198479', 'name': 'aspirin 400 MG / caffeine 32 MG Oral Tablet', 'synonym': 'ASA 400 MG / Caffeine 32 MG Oral Tablet', 'tty': 'SCD', 'language': 'ENG', 'suppress': 'N', 'umlscui': ''}, {'rxcui': '198480', 'name': 'aspirin 500 MG / caffeine 32 MG Oral Tablet', 'synonym': 'ASA 500 MG / Caffeine 32 MG Oral Tablet', 'tty': 'SCD', 'language': 'ENG', 'suppress': 'N', 'umlscui': ''}, {'rxcui': '199281', 'name': 'aspirin 300 MG Oral Tablet', 'synonym': 'ASA 300 MG Oral Tablet', 'tty': 'SCD', 'language': 'ENG', 'suppress': 'N', 'umlscui': ''}, {'rxcui': '205251', 'name': 'acetaminophen 160 MG / aspirin 230 MG / caffeine 33 MG Oral Tablet', 'synonym': 'APAP 160 MG / ASA 230 MG / Caffeine 33 MG Oral Tablet', 'tty': 'SCD', 'language': 'ENG', 'suppress': 'N', 'umlscui': ''}, {'rxcui': '212033', 'name': 'aspirin 325 MG Oral Tablet', 'synonym': 'ASA 325 MG Oral Tablet', 'tty': 'SCD', 'language': 'ENG', 'suppress': 'N', 'umlscui': ''}, {'rxcui': '2267026', 'name': 'aspirin 1000 MG / caffeine 150 MG Oral Powder', 'synonym': 'ASA 1000 MG / Caffeine 150 MG Oral Powder', 'tty': 'SCD', 'language': 'ENG', 'suppress': 'N', 'umlscui': ''}, {'rxcui': '2360605', 'name': 'acetaminophen 500 MG / aspirin 500 MG / caffeine 65 MG Oral Powder', 'synonym': 'APAP 500 MG / ASA 500 MG / caffeine 65 MG Oral Powder', 'tty': 'SCD', 'language': 'ENG', 'suppress': 'N', 'umlscui': ''}, {'rxcui': '238134', 'name': 'aspirin 325 MG / butalbital 50 MG / caffeine 40 MG Oral Capsule', 'synonym': 'ASA 325 MG / butalbital 50 MG / Caffeine 40 MG Oral Capsule', 'tty': 'SCD', 'language': 'ENG', 'suppress': 'N', 'umlscui': ''}, {'rxcui': '238135', 'name': 'aspirin 325 MG / butalbital 50 MG / caffeine 40 MG Oral Tablet', 'synonym': 'ASA 325 MG / butalbital 50 MG / caffeine 40 MG Oral Tablet', 'tty': 'SCD', 'language': 'ENG', 'suppress': 'N', 'umlscui': ''}, {'rxcui': '2393784', 'name': 'aspirin 6 MG/ML Oral Spray', 'synonym': 'ASA 6 MG/ML Oral Spray', 'tty': 'SCD', 'language': 'ENG', 'suppress': 'N', 'umlscui': ''}, {'rxcui': '2394061', 'name': 'aspirin 6 MG / menthol 5 MG Oral Lozenge', 'synonym': 'ASA 6 MG / menthol 5 MG Oral Lozenge', 'tty': 'SCD', 'language': 'ENG', 'suppress': 'N', 'umlscui': ''}, {'rxcui': '243670', 'name': 'aspirin 81 MG Oral Tablet', 'synonym': 'ASA 81 MG Oral Tablet', 'tty': 'SCD', 'language': 'ENG', 'suppress': 'N', 'umlscui': ''}, {'rxcui': '243685', 'name': 'aspirin 421 MG / caffeine 32 MG Oral Tablet', 'synonym': 'ASA 421 MG / Caffeine 32 MG Oral Tablet', 'tty': 'SCD', 'language': 'ENG', 'suppress': 'N', 'umlscui': ''}, {'rxcui': '243694', 'name': 'acetaminophen 194 MG / aspirin 227 MG / caffeine 33 MG Oral Tablet', 'synonym': 'APAP 194 MG / ASA 227 MG / caffeine 33 MG Oral Tablet', 'tty': 'SCD', 'language': 'ENG', 'suppress': 'N', 'umlscui': ''}, {'rxcui': '246461', 'name': 'aspirin 100 MG Oral Tablet', 'synonym': 'ASA 100 MG Oral Tablet', 'tty': 'SCD', 'language': 'ENG', 'suppress': 'N', 'umlscui': ''}, {'rxcui': '247137', 'name': 'aspirin 650 MG Oral Powder', 'synonym': 'ASA 650 MG Oral Powder', 'tty': 'SCD', 'language': 'ENG', 'suppress': 'N', 'umlscui': ''}, {'rxcui': '247892', 'name': 'aspirin 325 MG / caffeine 15 MG Oral Tablet', 'synonym': 'ASA 325 MG / Caffeine 15 MG Oral Tablet', 'tty': 'SCD', 'language': 'ENG', 'suppress': 'N', 'umlscui': ''}, {'rxcui': '252857', 'name': 'aspirin 81 MG Oral Capsule', 'synonym': 'ASA 81 MG Oral Capsule', 'tty': 'SCD', 'language': 'ENG', 'suppress': 'N', 'umlscui': ''}, {'rxcui': '2565491', 'name': 'aspirin 325 MG / dextromethorphan hydrobromide 10 MG / doxylamine succinate 6.25 MG / phenylephrine bitartrate 7.8 MG Effervescent Oral Tablet', 'synonym': 'ASA 325 MG / Dextromethorphan Hydrobromide 10 MG / doxylamine succinate 6.25 MG / Phenylephrine bitartrate 7.8 MG Effervescent Oral Tablet', 'tty': 'SCD', 'language': 'ENG', 'suppress': 'N', 'umlscui': ''}, {'rxcui': '2583731', 'name': 'aspirin 500 MG / butalbital 50 MG / caffeine 40 MG Oral Capsule', 'synonym': 'ASA 500 MG / butalbital 50 MG / caffeine 40 MG Oral Capsule', 'tty': 'SCD', 'language': 'ENG', 'suppress': 'N', 'umlscui': ''}, {'rxcui': '259081', 'name': '12 HR aspirin 25 MG / dipyridamole 200 MG Extended Release Oral Capsule', 'synonym': '12 HR ASA 25 MG / Dipyridamole 200 MG Extended Release Oral Capsule', 'tty': 'SCD', 'language': 'ENG', 'suppress': 'N', 'umlscui': ''}, {'rxcui': '2606079', 'name': 'aspirin 325 MG Effervescent Oral Tablet', 'synonym': 'ASA 325 MG Effervescent Oral Tablet', 'tty': 'SCD', 'language': 'ENG', 'suppress': 'N', 'umlscui': ''}, {'rxcui': '2626726', 'name': 'aspirin 650 MG / caffeine 65 MG Oral Powder', 'synonym': 'ASA 650 MG / caffeine 65 MG Oral Powder', 'tty': 'SCD', 'language': 'ENG', 'suppress': 'N', 'umlscui': ''}, {'rxcui': '2668107', 'name': 'aspirin 81 MG Oral Powder', 'synonym': 'ASA 81 MG Oral Powder', 'tty': 'SCD', 'language': 'ENG', 'suppress': 'N', 'umlscui': ''}, {'rxcui': '308278', 'name': 'acetaminophen 115 MG / aspirin 210 MG / caffeine 16 MG / salicylamide 65 MG Oral Tablet', 'synonym': 'APAP 115 MG / ASA 210 MG / caffeine 16 MG / salicylamide 65 MG Oral Tablet', 'tty': 'SCD', 'language': 'ENG', 'suppress': 'N', 'umlscui': ''}, {'rxcui': '308297', 'name': 'acetaminophen 250 MG / aspirin 250 MG / caffeine 65 MG Oral Tablet', 'synonym': 'APAP 250 MG / ASA 250 MG / caffeine 65 MG Oral Tablet', 'tty': 'SCD', 'language': 'ENG', 'suppress': 'N', 'umlscui': ''}, {'rxcui': '308363', 'name': 'aspirin 325 MG / caffeine 16 MG / salicylamide 95 MG Oral Tablet', 'synonym': 'ASA 325 MG / Caffeine 16 MG / salicylamide 95 MG Oral Tablet', 'tty': 'SCD', 'language': 'ENG', 'suppress': 'N', 'umlscui': ''}, {'rxcui': '308403', 'name': 'aspirin 165 MG Delayed Release Oral Tablet', 'synonym': 'ASA 165 MG Delayed Release Oral Tablet', 'tty': 'SCD', 'language': 'ENG', 'suppress': 'N', 'umlscui': ''}, {'rxcui': '308409', 'name': 'aspirin 500 MG Delayed Release Oral Tablet', 'synonym': 'ASA 500 MG Delayed Release Oral Tablet', 'tty': 'SCD', 'language': 'ENG', 'suppress': 'N', 'umlscui': ''}, {'rxcui': '308411', 'name': 'aspirin 650 MG Delayed Release Oral Tablet', 'synonym': 'ASA 650 MG Delayed Release Oral Tablet', 'tty': 'SCD', 'language': 'ENG', 'suppress': 'N', 'umlscui': ''}, {'rxcui': '308416', 'name': 'aspirin 81 MG Delayed Release Oral Tablet', 'synonym': 'ASA 81 MG Delayed Release Oral Tablet', 'tty': 'SCD', 'language': 'ENG', 'suppress': 'N', 'umlscui': ''}, {'rxcui': '308417', 'name': 'aspirin 975 MG Delayed Release Oral Tablet', 'synonym': 'ASA 975 MG Delayed Release Oral Tablet', 'tty': 'SCD', 'language': 'ENG', 'suppress': 'N', 'umlscui': ''}, {'rxcui': '318272', 'name': 'aspirin 81 MG Chewable Tablet', 'synonym': 'ASA 81 MG Chewable Tablet', 'tty': 'SCD', 'language': 'ENG', 'suppress': 'N', 'umlscui': ''}, {'rxcui': '333834', 'name': 'aspirin 60 MG Chewable Tablet', 'synonym': 'ASA 60 MG Chewable Tablet', 'tty': 'SCD', 'language': 'ENG', 'suppress': 'N', 'umlscui': ''}, {'rxcui': '349516', 'name': 'aspirin 800 MG Oral Tablet', 'synonym': 'ASA 800 MG Oral Tablet', 'tty': 'SCD', 'language': 'ENG', 'suppress': 'N', 'umlscui': ''}, {'rxcui': '359221', 'name': 'acetaminophen 110 MG / aspirin 162 MG / caffeine 32.4 MG / salicylamide 152 MG Oral Tablet', 'synonym': 'APAP 110 MG / ASA 162 MG / Caffeine 32.4 MG / salicylamide 152 MG Oral Tablet', 'tty': 'SCD', 'language': 'ENG', 'suppress': 'N', 'umlscui': ''}, {'rxcui': '391930', 'name': 'aspirin 975 MG Oral Tablet', 'synonym': 'ASA 975 MG Oral Tablet', 'tty': 'SCD', 'language': 'ENG', 'suppress': 'N', 'umlscui': ''}, {'rxcui': '432638', 'name': 'acetaminophen 250 MG / aspirin 250 MG Oral Tablet', 'synonym': 'APAP 250 MG / ASA 250 MG Oral Tablet', 'tty': 'SCD', 'language': 'ENG', 'suppress': 'N', 'umlscui': ''}, {'rxcui': '433353', 'name': 'aspirin 300 MG Chewable Tablet', 'synonym': 'ASA 300 MG Chewable Tablet', 'tty': 'SCD', 'language': 'ENG', 'suppress': 'N', 'umlscui': ''}, {'rxcui': '605252', 'name': 'aspirin 650 MG / caffeine 33.3 MG / salicylamide 195 MG Oral Powder', 'synonym': 'ASA 650 MG / Caffeine 33.3 MG / salicylamide 195 MG Oral Powder', 'tty': 'SCD', 'language': 'ENG', 'suppress': 'N', 'umlscui': ''}, {'rxcui': '637540', 'name': 'aspirin 325 MG / oxycodone hydrochloride 4.5 MG / oxycodone terephthalate 0.38 MG Oral Tablet', 'synonym': 'ASA 325 MG / Oxycodone Hydrochloride 4.5 MG / oxycodone terephthalate 0.38 MG Oral Tablet', 'tty': 'SCD', 'language': 'ENG', 'suppress': 'N', 'umlscui': ''}, {'rxcui': '685589', 'name': 'aspirin 1.5 MG/ML Oral Solution', 'synonym': 'ASA 1.5 MG/ML Oral Solution', 'tty': 'SCD', 'language': 'ENG', 'suppress': 'N', 'umlscui': ''}, {'rxcui': '688214', 'name': 'aspirin 2.5 MG/ML Oral Solution', 'synonym': 'ASA 2.5 MG/ML Oral Solution', 'tty': 'SCD', 'language': 'ENG', 'suppress': 'N', 'umlscui': ''}, {'rxcui': '692836', 'name': 'acetaminophen 325 MG / aspirin 500 MG / caffeine 65 MG Oral Powder', 'synonym': 'APAP 325 MG / ASA 500 MG / Caffeine 65 MG Oral Powder', 'tty': 'SCD', 'language': 'ENG', 'suppress': 'N', 'umlscui': ''}, {'rxcui': '702316', 'name': 'aspirin 500 MG / caffeine 32.5 MG Oral Tablet', 'synonym': 'ASA 500 MG / Caffeine 32.5 MG Oral Tablet', 'tty': 'SCD', 'language': 'ENG', 'suppress': 'N', 'umlscui': ''}, {'rxcui': '724614', 'name': 'aspirin 325 MG / oxycodone hydrochloride 2.25 MG / oxycodone terephthalate 0.19 MG Oral Tablet', 'synonym': 'ASA 325 MG / Oxycodone Hydrochloride 2.25 MG / oxycodone terephthalate 0.19 MG Oral Tablet', 'tty': 'SCD', 'language': 'ENG', 'suppress': 'N', 'umlscui': ''}, {'rxcui': '763111', 'name': 'acetaminophen 325 MG / aspirin 500 MG Oral Powder', 'synonym': 'APAP 325 MG / ASA 500 MG Oral Powder', 'tty': 'SCD', 'language': 'ENG', 'suppress': 'N', 'umlscui': ''}, {'rxcui': '763116', 'name': 'acetaminophen 260 MG / aspirin 520 MG / caffeine 32.5 MG Oral Powder', 'synonym': 'APAP 260 MG / ASA 520 MG / Caffeine 32.5 MG Oral Powder', 'tty': 'SCD', 'language': 'ENG', 'suppress': 'N', 'umlscui': ''}, {'rxcui': '797050', 'name': 'aspirin 650 MG / caffeine 32 MG / salicylamide 200 MG Oral Powder', 'synonym': 'ASA 650 MG / Caffeine 32 MG / salicylamide 200 MG Oral Powder', 'tty': 'SCD', 'language': 'ENG', 'suppress': 'N', 'umlscui': ''}, {'rxcui': '806446', 'name': 'aspirin 500 MG / caffeine 65 MG Oral Tablet', 'synonym': 'ASA 500 MG / Caffeine 65 MG Oral Tablet', 'tty': 'SCD', 'language': 'ENG', 'suppress': 'N', 'umlscui': ''}, {'rxcui': '827318', 'name': 'acetaminophen 250 MG / aspirin 250 MG / caffeine 65 MG Oral Capsule', 'synonym': 'APAP 250 MG / ASA 250 MG / Caffeine 65 MG Oral Capsule', 'tty': 'SCD', 'language': 'ENG', 'suppress': 'N', 'umlscui': ''}, {'rxcui': '828585', 'name': 'aspirin 389 MG / caffeine 32.4 MG / propoxyphene hydrochloride 32 MG Oral Capsule', 'synonym': 'ASA 389 MG / Caffeine 32.4 MG / Propoxyphene Hydrochloride 32 MG Oral Capsule', 'tty': 'SCD', 'language': 'ENG', 'suppress': 'N', 'umlscui': ''}, {'rxcui': '828594', 'name': 'aspirin 389 MG / caffeine 32.4 MG / propoxyphene hydrochloride 65 MG Oral Capsule', 'synonym': 'ASA 389 MG / Caffeine 32.4 MG / Propoxyphene Hydrochloride 65 MG Oral Capsule', 'tty': 'SCD', 'language': 'ENG', 'suppress': 'N', 'umlscui': ''}, {'rxcui': '848768', 'name': 'aspirin 325 MG / oxycodone hydrochloride 4.84 MG Oral Tablet', 'synonym': 'ASA 325 MG / oxycodone hydrochloride 4.84 MG Oral Tablet', 'tty': 'SCD', 'language': 'ENG', 'suppress': 'N', 'umlscui': ''}, {'rxcui': '853499', 'name': 'aspirin 228 MG Chewing Gum', 'synonym': 'ASA 228 MG Chewing Gum', 'tty': 'SCD', 'language': 'ENG', 'suppress': 'N', 'umlscui': ''}, {'rxcui': '857121', 'name': 'aspirin 500 MG / hydrocodone bitartrate 5 MG Oral Tablet', 'synonym': 'ASA 500 MG / Hydrocodone Bitartrate 5 MG Oral Tablet', 'tty': 'SCD', 'language': 'ENG', 'suppress': 'N', 'umlscui': ''}, {'rxcui': '863184', 'name': 'aspirin 360 MG / caffeine 75 MG / magnesium carbonate 100 MG / magnesium salicylate 60 MG Oral Tablet', 'synonym': 'ASA 360 MG / caffeine 75 MG / magnesium carbonate 100 MG / magnesium salicylate 60 MG Oral Tablet', 'tty': 'SCD', 'language': 'ENG', 'suppress': 'N', 'umlscui': ''}, {'rxcui': '863186', 'name': 'aspirin 410 MG / caffeine 60 MG / salicylamide 30 MG Oral Tablet', 'synonym': 'ASA 410 MG / Caffeine 60 MG / salicylamide 30 MG Oral Tablet', 'tty': 'SCD', 'language': 'ENG', 'suppress': 'N', 'umlscui': ''}, {'rxcui': '891134', 'name': 'aspirin 15600 MG Oral Tablet', 'synonym': 'ASA 15600 MG Oral Tablet', 'tty': 'SCD', 'language': 'ENG', 'suppress': 'N', 'umlscui': ''}, {'rxcui': '891136', 'name': 'aspirin 31200 MG Oral Tablet', 'synonym': 'ASA 31200 MG Oral Tablet', 'tty': 'SCD', 'language': 'ENG', 'suppress': 'N', 'umlscui': ''}, {'rxcui': '892160', 'name': 'aspirin 3900 MG Oral Tablet', 'synonym': 'aspirin 60 Grains', 'tty': 'SCD', 'language': 'ENG', 'suppress': 'N', 'umlscui': ''}, {'rxcui': '896884', 'name': 'aspirin 742 MG / caffeine 38 MG / salicylamide 222 MG Oral Powder', 'synonym': 'ASA 742 MG / Caffeine 38 MG / salicylamide 222 MG Oral Powder', 'tty': 'SCD', 'language': 'ENG', 'suppress': 'N', 'umlscui': ''}, {'rxcui': '900470', 'name': 'aspirin 1 MG/MG Oral Powder', 'synonym': 'ASA 1 MG/MG Oral Powder', 'tty': 'SCD', 'language': 'ENG', 'suppress': 'N', 'umlscui': ''}, {'rxcui': '900528', 'name': 'aspirin 850 MG / caffeine 65 MG Oral Powder', 'synonym': 'ASA 850 MG / Caffeine 65 MG Oral Powder', 'tty': 'SCD', 'language': 'ENG', 'suppress': 'N', 'umlscui': ''}, {'rxcui': '994226', 'name': 'aspirin 325 MG / carisoprodol 200 MG / codeine phosphate 16 MG Oral Tablet', 'synonym': 'ASA 325 MG / carisoprodol 200 MG / codeine phosphate 16 MG Oral Tablet', 'tty': 'SCD', 'language': 'ENG', 'suppress': 'N', 'umlscui': ''}, {'rxcui': '994237', 'name': 'aspirin 325 MG / butalbital 50 MG / caffeine 40 MG / codeine phosphate 30 MG Oral Capsule', 'synonym': 'ASA 325 MG / butalbital 50 MG / caffeine 40 MG / codeine phosphate 30 MG Oral Capsule', 'tty': 'SCD', 'language': 'ENG', 'suppress': 'N', 'umlscui': ''}, {'rxcui': '994430', 'name': 'aspirin 1000 MG / caffeine 65 MG Oral Powder', 'synonym': 'ASA 1000 MG / Caffeine 65 MG Oral Powder', 'tty': 'SCD', 'language': 'ENG', 'suppress': 'N', 'umlscui': ''}, {'rxcui': '994435', 'name': 'aspirin 845 MG / caffeine 65 MG Oral Powder', 'synonym': 'ASA 845 MG / Caffeine 65 MG Oral Powder', 'tty': 'SCD', 'language': 'ENG', 'suppress': 'N', 'umlscui': ''}, {'rxcui': '994528', 'name': 'aspirin 385 MG / caffeine 30 MG / orphenadrine citrate 25 MG Oral Tablet', 'synonym': 'ASA 385 MG / Caffeine 30 MG / Orphenadrine Citrate 25 MG Oral Tablet', 'tty': 'SCD', 'language': 'ENG', 'suppress': 'N', 'umlscui': ''}, {'rxcui': '994535', 'name': 'aspirin 770 MG / caffeine 60 MG / orphenadrine citrate 50 MG Oral Tablet', 'synonym': 'ASA 770 MG / caffeine 60 MG / orphenadrine citrate 50 MG Oral Tablet', 'tty': 'SCD', 'language': 'ENG', 'suppress': 'N', 'umlscui': ''}, {'rxcui': '994810', 'name': 'aspirin 428 MG / caffeine 30 MG / orphenadrine citrate 25 MG Oral Tablet', 'synonym': 'ASA 428 MG / Caffeine 30 MG / Orphenadrine Citrate 25 MG Oral Tablet', 'tty': 'SCD', 'language': 'ENG', 'suppress': 'N', 'umlscui': ''}, {'rxcui': '994811', 'name': 'aspirin 856 MG / caffeine 60 MG / orphenadrine citrate 50 MG Oral Tablet', 'synonym': 'ASA 856 MG / Caffeine 60 MG / Orphenadrine Citrate 50 MG Oral Tablet', 'tty': 'SCD', 'language': 'ENG', 'suppress': 'N', 'umlscui': ''}, {'rxcui': '996988', 'name': 'aspirin 300 MG / codeine phosphate 8 MG Oral Tablet', 'synonym': 'ASA 300 MG / Codeine Phosphate 8 MG Oral Tablet', 'tty': 'SCD', 'language': 'ENG', 'suppress': 'N', 'umlscui': ''}, {'rxcui': '996991', 'name': 'aspirin 325 MG / codeine phosphate 30 MG Oral Tablet', 'synonym': 'ASA 325 MG / Codeine Phosphate 30 MG Oral Tablet', 'tty': 'SCD', 'language': 'ENG', 'suppress': 'N', 'umlscui': ''}, {'rxcui': '996994', 'name': 'aspirin 325 MG / codeine phosphate 60 MG Oral Tablet', 'synonym': 'ASA 325 MG / Codeine Phosphate 60 MG Oral Tablet', 'tty': 'SCD', 'language': 'ENG', 'suppress': 'N', 'umlscui': ''}]}]}}\n"
          ]
        }
      ]
    },
    {
      "cell_type": "code",
      "source": [
        "# Sample drug interaction data\n",
        "drug_interactions = {\n",
        "    (\"Aspirin\", \"Ibuprofen\"): \"Increased risk of gastrointestinal bleeding.\",\n",
        "    (\"Aspirin\", \"Acetaminophen\"): \"Generally safe to use together, but consult a doctor.\",\n",
        "    (\"Acetaminophen\", \"Ibuprofen\"): \"Safe to use together, can help with pain relief.\",\n",
        "    (\"Warfarin\", \"Aspirin\"): \"Increased risk of bleeding; consult your healthcare provider.\",\n",
        "    (\"Ciprofloxacin\", \"Tizanidine\"): \"Increased risk of side effects; monitor closely.\",\n",
        "}\n",
        "\n",
        "def check_interaction(drug1, drug2):\n",
        "    \"\"\"Check for interaction between two drugs.\"\"\"\n",
        "    interaction = drug_interactions.get((drug1, drug2)) or drug_interactions.get((drug2, drug1))\n",
        "    return interaction if interaction else \"No known interaction.\"\n",
        "\n",
        "def main():\n",
        "    # User input\n",
        "    print(\"Enter the names of two drugs to check for interactions.\")\n",
        "    drug1 = input(\"Enter the first drug: \").strip()\n",
        "    drug2 = input(\"Enter the second drug: \").strip()\n",
        "\n",
        "    # Check interaction\n",
        "    interaction_result = check_interaction(drug1, drug2)\n",
        "    print(f\"Interaction between {drug1} and {drug2}: {interaction_result}\")\n",
        "\n",
        "if __name__ == \"__main__\":\n",
        "    main()\n"
      ],
      "metadata": {
        "colab": {
          "base_uri": "https://localhost:8080/"
        },
        "id": "4DDXEhlXPGZN",
        "outputId": "873cbb90-0270-49e5-d5f7-5e236bbe8b30"
      },
      "execution_count": 18,
      "outputs": [
        {
          "output_type": "stream",
          "name": "stdout",
          "text": [
            "Enter the names of two drugs to check for interactions.\n",
            "Enter the first drug: Acetaminophen\n",
            "Enter the second drug: Aspirin\n",
            "Interaction between Acetaminophen and Aspirin: Generally safe to use together, but consult a doctor.\n"
          ]
        }
      ]
    },
    {
      "cell_type": "code",
      "source": [
        "import requests\n",
        "\n",
        "def fetch_kegg_id(drug_name):\n",
        "    \"\"\"Fetch KEGG drug ID for a given drug name.\"\"\"\n",
        "    url = f\"https://rest.kegg.jp/find/drug/{drug_name}\"\n",
        "    response = requests.get(url)\n",
        "    if response.status_code == 200:\n",
        "        results = response.text.strip().split('\\n')\n",
        "        # Return the first KEGG ID found\n",
        "        return results[0].split('\\t')[0] if results else None\n",
        "    else:\n",
        "        print(f\"Error fetching KEGG ID for {drug_name}: {response.status_code}\")\n",
        "        return None\n",
        "\n",
        "def fetch_drug_interactions(kegg_ids):\n",
        "    \"\"\"Fetch drug-drug interactions using KEGG DDI API.\"\"\"\n",
        "    kegg_entry = '+'.join(kegg_ids)\n",
        "    url = f\"https://rest.kegg.jp/ddi/{kegg_entry}\"\n",
        "    response = requests.get(url)\n",
        "    if response.status_code == 200:\n",
        "        return response.text\n",
        "    else:\n",
        "        print(f\"Error fetching interaction data: {response.status_code}\")\n",
        "        return None\n",
        "\n",
        "def main():\n",
        "    # Input drug names\n",
        "    drug1 = input(\"Enter the first drug name: \")\n",
        "    drug2 = input(\"Enter the second drug name: \")\n",
        "\n",
        "    # Fetch KEGG IDs\n",
        "    kegg_id1 = fetch_kegg_id(drug1)\n",
        "    kegg_id2 = fetch_kegg_id(drug2)\n",
        "\n",
        "    if kegg_id1 and kegg_id2:\n",
        "        print(f\"KEGG ID for {drug1}: {kegg_id1}\")\n",
        "        print(f\"KEGG ID for {drug2}: {kegg_id2}\")\n",
        "\n",
        "        # Fetch interactions\n",
        "        interactions = fetch_drug_interactions([kegg_id1, kegg_id2])\n",
        "        if interactions:\n",
        "            print(\"Drug-drug interactions:\")\n",
        "            print(interactions)\n",
        "        else:\n",
        "            print(\"No known interactions found.\")\n",
        "    else:\n",
        "        print(\"Failed to retrieve KEGG IDs for the specified drugs.\")\n",
        "\n",
        "if __name__ == \"__main__\":\n",
        "    main()\n"
      ],
      "metadata": {
        "colab": {
          "base_uri": "https://localhost:8080/"
        },
        "id": "IYDUP8_IQgbQ",
        "outputId": "70dd9356-2d95-44f4-9bbe-6d0dcc751344"
      },
      "execution_count": 28,
      "outputs": [
        {
          "output_type": "stream",
          "name": "stdout",
          "text": [
            "Enter the first drug name: aspirin\n",
            "Enter the second drug name: ibuprofen\n",
            "KEGG ID for aspirin: dr:D00109\n",
            "KEGG ID for ibuprofen: dr:D00126\n",
            "Drug-drug interactions:\n",
            "dr:D00109\tdr:D00126\tP\tTarget: PTGS1 PTGS2\n",
            "dr:D00126\tdr:D00109\tP\tTarget: PTGS1 PTGS2\n",
            "\n"
          ]
        }
      ]
    }
  ]
}